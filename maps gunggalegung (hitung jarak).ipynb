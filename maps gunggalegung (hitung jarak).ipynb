{
 "cells": [
  {
   "cell_type": "code",
   "execution_count": 2,
   "metadata": {},
   "outputs": [],
   "source": [
    "from math import radians, cos, sin, asin, sqrt\n",
    "\n",
    "def haversine(lon1, lat1, lon2, lat2):\n",
    "    \"\"\"\n",
    "    Calculate the great circle distance between two points\n",
    "    on the earth (specified in decimal degrees)\n",
    "    \"\"\"\n",
    "    # convert decimal degrees to radians\n",
    "    lon1, lat1, lon2, lat2 = map(radians, [lon1, lat1, lon2, lat2])\n",
    "\n",
    "    # haversine formula\n",
    "    dlon = lon2 - lon1\n",
    "    dlat = lat2 - lat1\n",
    "    a = sin(dlat/2)**2 + cos(lat1) * cos(lat2) * sin(dlon/2)**2\n",
    "    c = 2 * asin(sqrt(a))\n",
    "    r = 6371 # Radius of earth in kilometers. Use 3956 for miles\n",
    "    return c * r"
   ]
  },
  {
   "cell_type": "code",
   "execution_count": null,
   "metadata": {},
   "outputs": [],
   "source": [
    "location_dandy = [-6.286644, 106.794241]\n",
    "location_dinda = [-6.356010, 106.791060]\n",
    "location_aji = [-6.242900, 107.089090]\n",
    "location_edri = [-6.362735750000001, 106.85469828433078]\n",
    "location_deka = [-6.466542968409356, 106.79221948138435]\n",
    "location_astari = [-6.286644, 106.794241]\n",
    "location_farah = [-6.246916492911282, 106.93379513905295]\n",
    "location_izhar = [-6.353921510960608, 106.76710705254781]\n",
    "location_izhar = [-6.353921510960608, 106.76710705254781]\n",
    "location_mega = [-6.205000777986647, 106.97769892555858]\n",
    "location_muti = [-6.253645250575615, 106.93894201021757]\n",
    "location_salma = [-6.23162733566554, 107.0127613318465]\n",
    "location_refina = [-6.276987947141003, 106.73334726789834]\n",
    "location_yoga = [-6.25797886410994, 106.72631439024273]\n",
    "location_nanda = [-6.3340035993195665, 106.85205413973226]\n",
    "location_wiwit = [-6.361211805988436, 106.88970187967638]"
   ]
  },
  {
   "cell_type": "code",
   "execution_count": 8,
   "metadata": {},
   "outputs": [
    {
     "name": "stdout",
     "output_type": "stream",
     "text": [
      "Distance (km) :  7.721155079814213\n"
     ]
    }
   ],
   "source": [
    "dandy = [{'lat': -6.286644, 'lng': 106.794241}]\n",
    "dinda = [{'lat': -6.356010, 'lng': 106.791060}]\n",
    "\n",
    "lat1 = dandy[0]['lat']\n",
    "lon1 = dandy[0]['lng']\n",
    "lat2 = dinda[0]['lat']\n",
    "lon2 = dinda[0]['lng']\n",
    "\n",
    "dandy_dinda = haversine(lon1, lat1, lon2, lat2)\n",
    "\n",
    "print('Distance (km) : ', dandy_dinda)\n"
   ]
  },
  {
   "cell_type": "code",
   "execution_count": 11,
   "metadata": {},
   "outputs": [
    {
     "name": "stdout",
     "output_type": "stream",
     "text": [
      "Distance (km) :  32.95091299322969\n"
     ]
    }
   ],
   "source": [
    "dandy = [{'lat': -6.286644, 'lng': 106.794241}]\n",
    "aji = [{'lat': -6.242900, 'lng': 107.089090}]\n",
    "\n",
    "lat1 = dandy[0]['lat']\n",
    "lon1 = dandy[0]['lng']\n",
    "lat2 = aji[0]['lat']\n",
    "lon2 = aji[0]['lng']\n",
    "\n",
    "dandy_aji = haversine(lon1, lat1, lon2, lat2)\n",
    "\n",
    "print('Distance (km) : ', dandy_aji)"
   ]
  },
  {
   "cell_type": "code",
   "execution_count": 34,
   "metadata": {},
   "outputs": [
    {
     "name": "stdout",
     "output_type": "stream",
     "text": [
      "Distance (km) :  10.781137899721372\n"
     ]
    }
   ],
   "source": [
    "dandy = [{'lat': -6.286644, 'lng': 106.794241}]\n",
    "edri = [{'lat': -6.362735750000001, 'lng': 106.85469828433078}]\n",
    "\n",
    "lat1 = dandy[0]['lat']\n",
    "lon1 = dandy[0]['lng']\n",
    "lat2 = edri[0]['lat']\n",
    "lon2 = edri[0]['lng']\n",
    "\n",
    "dandy_edri = haversine(lon1, lat1, lon2, lat2)\n",
    "\n",
    "print('Distance (km) : ', dandy_edri)"
   ]
  },
  {
   "cell_type": "code",
   "execution_count": 14,
   "metadata": {},
   "outputs": [
    {
     "name": "stdout",
     "output_type": "stream",
     "text": [
      "Distance (km) :  20.00509991476639\n"
     ]
    }
   ],
   "source": [
    "dandy = [{'lat': -6.286644, 'lng': 106.794241}]\n",
    "deka = [{'lat': -6.466542968409356, 'lng': 106.79221948138435}]\n",
    "\n",
    "lat1 = dandy[0]['lat']\n",
    "lon1 = dandy[0]['lng']\n",
    "lat2 = deka[0]['lat']\n",
    "lon2 = deka[0]['lng']\n",
    "\n",
    "dandy_deka = haversine(lon1, lat1, lon2, lat2)\n",
    "\n",
    "print('Distance (km) : ', dandy_deka)"
   ]
  },
  {
   "cell_type": "code",
   "execution_count": 17,
   "metadata": {},
   "outputs": [
    {
     "name": "stdout",
     "output_type": "stream",
     "text": [
      "Distance (km) :  5.352292503066962\n"
     ]
    }
   ],
   "source": [
    "dandy = [{'lat': -6.2878703524813755, 'lng': 106.79111202524273}]\n",
    "astari = [{'lat': -6.274713216907242, 'lng': 106.83769288106527}]\n",
    "\n",
    "lat1 = dandy[0]['lat']\n",
    "lon1 = dandy[0]['lng']\n",
    "lat2 = astari[0]['lat']\n",
    "lon2 = astari[0]['lng']\n",
    "\n",
    "dandy_astari = haversine(lon1, lat1, lon2, lat2)\n",
    "\n",
    "print('Distance (km) : ', dandy_astari)"
   ]
  },
  {
   "cell_type": "code",
   "execution_count": 18,
   "metadata": {},
   "outputs": [
    {
     "name": "stdout",
     "output_type": "stream",
     "text": [
      "Distance (km) :  16.415120890963454\n"
     ]
    }
   ],
   "source": [
    "dandy = [{'lat': -6.2878703524813755, 'lng': 106.79111202524273}]\n",
    "farah = [{'lat': -6.246916492911282, 'lng': 106.93379513905295}]\n",
    "\n",
    "lat1 = dandy[0]['lat']\n",
    "lon1 = dandy[0]['lng']\n",
    "lat2 = farah[0]['lat']\n",
    "lon2 = farah[0]['lng']\n",
    "\n",
    "dandy_farah = haversine(lon1, lat1, lon2, lat2)\n",
    "\n",
    "print('Distance (km) : ', dandy_farah)"
   ]
  },
  {
   "cell_type": "code",
   "execution_count": 35,
   "metadata": {},
   "outputs": [
    {
     "name": "stdout",
     "output_type": "stream",
     "text": [
      "Distance (km) :  4.250313055158943\n"
     ]
    }
   ],
   "source": [
    "dandy = [{'lat': -6.2878703524813755, 'lng': 106.79111202524273}]\n",
    "hani = [{'lat': -6.283919753574575, 'lng': 106.75286278796244}]\n",
    "\n",
    "lat1 = dandy[0]['lat']\n",
    "lon1 = dandy[0]['lng']\n",
    "lat2 = hani[0]['lat']\n",
    "lon2 = hani[0]['lng']\n",
    "\n",
    "dandy_hani = haversine(lon1, lat1, lon2, lat2)\n",
    "\n",
    "print('Distance (km) : ', dandy_hani)"
   ]
  },
  {
   "cell_type": "code",
   "execution_count": 19,
   "metadata": {},
   "outputs": [
    {
     "name": "stdout",
     "output_type": "stream",
     "text": [
      "Distance (km) :  7.809026944634959\n"
     ]
    }
   ],
   "source": [
    "dandy = [{'lat': -6.2878703524813755, 'lng': 106.79111202524273}]\n",
    "ijar = [{'lat': -6.353921510960608, 'lng': 106.76710705254781}]\n",
    "\n",
    "lat1 = dandy[0]['lat']\n",
    "lon1 = dandy[0]['lng']\n",
    "lat2 = ijar[0]['lat']\n",
    "lon2 = ijar[0]['lng']\n",
    "\n",
    "dandy_ijar = haversine(lon1, lat1, lon2, lat2)\n",
    "\n",
    "print('Distance (km) : ', dandy_ijar)"
   ]
  },
  {
   "cell_type": "code",
   "execution_count": 37,
   "metadata": {},
   "outputs": [
    {
     "name": "stdout",
     "output_type": "stream",
     "text": [
      "Distance (km) :  20.187561720496074\n"
     ]
    }
   ],
   "source": [
    "dandy = [{'lat': -6.2878703524813755, 'lng': 106.79111202524273}]\n",
    "joel = [{'lat': -6.130573936089557, 'lng': 106.69992030579681}]\n",
    "\n",
    "lat1 = dandy[0]['lat']\n",
    "lon1 = dandy[0]['lng']\n",
    "lat2 = joel[0]['lat']\n",
    "lon2 = joel[0]['lng']\n",
    "\n",
    "dandy_joel = haversine(lon1, lat1, lon2, lat2)\n",
    "\n",
    "print('Distance (km) : ', dandy_joel)"
   ]
  },
  {
   "cell_type": "code",
   "execution_count": 20,
   "metadata": {},
   "outputs": [
    {
     "name": "stdout",
     "output_type": "stream",
     "text": [
      "Distance (km) :  22.589236747433887\n"
     ]
    }
   ],
   "source": [
    "dandy = [{'lat': -6.2878703524813755, 'lng': 106.79111202524273}]\n",
    "mega = [{'lat': -6.205000777986647, 'lng': 106.97769892555858}]\n",
    "\n",
    "lat1 = dandy[0]['lat']\n",
    "lon1 = dandy[0]['lng']\n",
    "lat2 = mega[0]['lat']\n",
    "lon2 = mega[0]['lng']\n",
    "\n",
    "dandy_mega = haversine(lon1, lat1, lon2, lat2)\n",
    "\n",
    "print('Distance (km) : ', dandy_mega)"
   ]
  },
  {
   "cell_type": "code",
   "execution_count": 21,
   "metadata": {},
   "outputs": [
    {
     "name": "stdout",
     "output_type": "stream",
     "text": [
      "Distance (km) :  16.776928536097742\n"
     ]
    }
   ],
   "source": [
    "dandy = [{'lat': -6.2878703524813755, 'lng': 106.79111202524273}]\n",
    "muti = [{'lat': -6.253645250575615, 'lng': 106.93894201021757}]\n",
    "\n",
    "lat1 = dandy[0]['lat']\n",
    "lon1 = dandy[0]['lng']\n",
    "lat2 = muti[0]['lat']\n",
    "lon2 = muti[0]['lng']\n",
    "\n",
    "dandy_muti = haversine(lon1, lat1, lon2, lat2)\n",
    "\n",
    "print('Distance (km) : ', dandy_muti)"
   ]
  },
  {
   "cell_type": "code",
   "execution_count": 24,
   "metadata": {},
   "outputs": [
    {
     "name": "stdout",
     "output_type": "stream",
     "text": [
      "Distance (km) :  25.284955388592383\n"
     ]
    }
   ],
   "source": [
    "dandy = [{'lat': -6.2878703524813755, 'lng': 106.79111202524273}]\n",
    "salma = [{'lat': -6.23162733566554, 'lng': 107.0127613318465}]\n",
    "\n",
    "lat1 = dandy[0]['lat']\n",
    "lon1 = dandy[0]['lng']\n",
    "lat2 = salma[0]['lat']\n",
    "lon2 = salma[0]['lng']\n",
    "\n",
    "dandy_salma = haversine(lon1, lat1, lon2, lat2)\n",
    "\n",
    "print('Distance (km) : ', dandy_salma)"
   ]
  },
  {
   "cell_type": "code",
   "execution_count": 25,
   "metadata": {},
   "outputs": [
    {
     "name": "stdout",
     "output_type": "stream",
     "text": [
      "Distance (km) :  6.498234519669162\n"
     ]
    }
   ],
   "source": [
    "dandy = [{'lat': -6.2878703524813755, 'lng': 106.79111202524273}]\n",
    "caca = [{'lat': -6.276987947141003, 'lng': 106.73334726789834}]\n",
    "\n",
    "lat1 = dandy[0]['lat']\n",
    "lon1 = dandy[0]['lng']\n",
    "lat2 = caca[0]['lat']\n",
    "lon2 = caca[0]['lng']\n",
    "\n",
    "dandy_caca = haversine(lon1, lat1, lon2, lat2)\n",
    "\n",
    "print('Distance (km) : ', dandy_caca)"
   ]
  },
  {
   "cell_type": "code",
   "execution_count": 29,
   "metadata": {},
   "outputs": [
    {
     "name": "stdout",
     "output_type": "stream",
     "text": [
      "Distance (km) :  7.895706466663682\n"
     ]
    }
   ],
   "source": [
    "dandy = [{'lat': -6.2878703524813755, 'lng': 106.79111202524273}]\n",
    "yoga = [{'lat': -6.25797886410994, 'lng': 106.72631439024273}]\n",
    "\n",
    "lat1 = dandy[0]['lat']\n",
    "lon1 = dandy[0]['lng']\n",
    "lat2 = yoga[0]['lat']\n",
    "lon2 = yoga[0]['lng']\n",
    "\n",
    "dandy_yoga = haversine(lon1, lat1, lon2, lat2)\n",
    "\n",
    "print('Distance (km) : ', dandy_yoga)"
   ]
  },
  {
   "cell_type": "code",
   "execution_count": 30,
   "metadata": {},
   "outputs": [
    {
     "name": "stdout",
     "output_type": "stream",
     "text": [
      "Distance (km) :  8.46641188914158\n"
     ]
    }
   ],
   "source": [
    "dandy = [{'lat': -6.2878703524813755, 'lng': 106.79111202524273}]\n",
    "nanda = [{'lat': -6.3340035993195665, 'lng': 106.85205413973226}]\n",
    "\n",
    "lat1 = dandy[0]['lat']\n",
    "lon1 = dandy[0]['lng']\n",
    "lat2 = nanda[0]['lat']\n",
    "lon2 = nanda[0]['lng']\n",
    "\n",
    "dandy_nanda = haversine(lon1, lat1, lon2, lat2)\n",
    "\n",
    "print('Distance (km) : ', dandy_nanda)"
   ]
  },
  {
   "cell_type": "code",
   "execution_count": 31,
   "metadata": {},
   "outputs": [
    {
     "name": "stdout",
     "output_type": "stream",
     "text": [
      "Distance (km) :  13.609901463267255\n"
     ]
    }
   ],
   "source": [
    "dandy = [{'lat': -6.2878703524813755, 'lng': 106.79111202524273}]\n",
    "wiwit = [{'lat': -6.361211805988436, 'lng': 106.88970187967638}]\n",
    "\n",
    "lat1 = dandy[0]['lat']\n",
    "lon1 = dandy[0]['lng']\n",
    "lat2 = wiwit[0]['lat']\n",
    "lon2 = wiwit[0]['lng']\n",
    "\n",
    "dandy_wiwit = haversine(lon1, lat1, lon2, lat2)\n",
    "\n",
    "print('Distance (km) : ', dandy_wiwit)"
   ]
  },
  {
   "cell_type": "code",
   "execution_count": 40,
   "metadata": {},
   "outputs": [
    {
     "name": "stdout",
     "output_type": "stream",
     "text": [
      "Distance (km) :  10.916335230552198\n"
     ]
    }
   ],
   "source": [
    "dinda = [{'lat': -6.356010, 'lng': 106.791060}]\n",
    "wiwit = [{'lat': -6.361211805988436, 'lng': 106.88970187967638}]\n",
    "\n",
    "lat1 = dinda[0]['lat']\n",
    "lon1 = dinda[0]['lng']\n",
    "lat2 = wiwit[0]['lat']\n",
    "lon2 = wiwit[0]['lng']\n",
    "\n",
    "dinda_wiwit = haversine(lon1, lat1, lon2, lat2)\n",
    "\n",
    "print('Distance (km) : ', dinda_wiwit)"
   ]
  },
  {
   "cell_type": "code",
   "execution_count": 41,
   "metadata": {},
   "outputs": [
    {
     "name": "stdout",
     "output_type": "stream",
     "text": [
      "Distance (km) :  7.171106183083723\n"
     ]
    }
   ],
   "source": [
    "dinda = [{'lat': -6.356010, 'lng': 106.791060}]\n",
    "nanda = [{'lat': -6.3340035993195665, 'lng': 106.85205413973226}]\n",
    "\n",
    "lat1 = dinda[0]['lat']\n",
    "lon1 = dinda[0]['lng']\n",
    "lat2 = nanda[0]['lat']\n",
    "lon2 = nanda[0]['lng']\n",
    "\n",
    "dinda_nanda = haversine(lon1, lat1, lon2, lat2)\n",
    "\n",
    "print('Distance (km) : ', dinda_nanda)"
   ]
  },
  {
   "cell_type": "code",
   "execution_count": 42,
   "metadata": {},
   "outputs": [
    {
     "name": "stdout",
     "output_type": "stream",
     "text": [
      "Distance (km) :  13.039475150374068\n"
     ]
    }
   ],
   "source": [
    "dinda = [{'lat': -6.356010, 'lng': 106.791060}]\n",
    "yoga = [{'lat': -6.25797886410994, 'lng': 106.72631439024273}]\n",
    "\n",
    "lat1 = dinda[0]['lat']\n",
    "lon1 = dinda[0]['lng']\n",
    "lat2 = yoga[0]['lat']\n",
    "lon2 = yoga[0]['lng']\n",
    "\n",
    "dinda_yoga = haversine(lon1, lat1, lon2, lat2)\n",
    "\n",
    "print('Distance (km) : ', dinda_yoga)"
   ]
  },
  {
   "cell_type": "code",
   "execution_count": 43,
   "metadata": {},
   "outputs": [
    {
     "name": "stdout",
     "output_type": "stream",
     "text": [
      "Distance (km) :  10.85784525022226\n"
     ]
    }
   ],
   "source": [
    "dinda = [{'lat': -6.356010, 'lng': 106.791060}]\n",
    "caca = [{'lat': -6.276987947141003, 'lng': 106.73334726789834}]\n",
    "\n",
    "lat1 = dinda[0]['lat']\n",
    "lon1 = dinda[0]['lng']\n",
    "lat2 = caca[0]['lat']\n",
    "lon2 = caca[0]['lng']\n",
    "\n",
    "dinda_caca = haversine(lon1, lat1, lon2, lat2)\n",
    "\n",
    "print('Distance (km) : ', dinda_caca)"
   ]
  },
  {
   "cell_type": "code",
   "execution_count": 44,
   "metadata": {},
   "outputs": [
    {
     "name": "stdout",
     "output_type": "stream",
     "text": [
      "Distance (km) :  28.137326363169166\n"
     ]
    }
   ],
   "source": [
    "dinda = [{'lat': -6.356010, 'lng': 106.791060}]\n",
    "salma = [{'lat': -6.23162733566554, 'lng': 107.0127613318465}]\n",
    "\n",
    "lat1 = dinda[0]['lat']\n",
    "lon1 = dinda[0]['lng']\n",
    "lat2 = salma[0]['lat']\n",
    "lon2 = salma[0]['lng']\n",
    "\n",
    "dinda_salma = haversine(lon1, lat1, lon2, lat2)\n",
    "\n",
    "print('Distance (km) : ', dinda_salma)"
   ]
  },
  {
   "cell_type": "code",
   "execution_count": 45,
   "metadata": {},
   "outputs": [
    {
     "name": "stdout",
     "output_type": "stream",
     "text": [
      "Distance (km) :  19.917207020761012\n"
     ]
    }
   ],
   "source": [
    "dinda = [{'lat': -6.356010, 'lng': 106.791060}]\n",
    "muti = [{'lat': -6.253645250575615, 'lng': 106.93894201021757}]\n",
    "\n",
    "lat1 = dinda[0]['lat']\n",
    "lon1 = dinda[0]['lng']\n",
    "lat2 = muti[0]['lat']\n",
    "lon2 = muti[0]['lng']\n",
    "\n",
    "dinda_muti = haversine(lon1, lat1, lon2, lat2)\n",
    "\n",
    "print('Distance (km) : ', dinda_muti)"
   ]
  },
  {
   "cell_type": "code",
   "execution_count": 46,
   "metadata": {},
   "outputs": [
    {
     "name": "stdout",
     "output_type": "stream",
     "text": [
      "Distance (km) :  26.598834105393134\n"
     ]
    }
   ],
   "source": [
    "dinda = [{'lat': -6.356010, 'lng': 106.791060}]\n",
    "mega = [{'lat': -6.205000777986647, 'lng': 106.97769892555858}]\n",
    "\n",
    "lat1 = dinda[0]['lat']\n",
    "lon1 = dinda[0]['lng']\n",
    "lat2 = mega[0]['lat']\n",
    "lon2 = mega[0]['lng']\n",
    "\n",
    "dinda_mega = haversine(lon1, lat1, lon2, lat2)\n",
    "\n",
    "print('Distance (km) : ', dinda_mega)"
   ]
  },
  {
   "cell_type": "code",
   "execution_count": 47,
   "metadata": {},
   "outputs": [
    {
     "name": "stdout",
     "output_type": "stream",
     "text": [
      "Distance (km) :  27.015931417244104\n"
     ]
    }
   ],
   "source": [
    "dinda = [{'lat': -6.356010, 'lng': 106.791060}]\n",
    "joel = [{'lat': -6.130573936089557, 'lng': 106.69992030579681}]\n",
    "\n",
    "lat1 = dinda[0]['lat']\n",
    "lon1 = dinda[0]['lng']\n",
    "lat2 = joel[0]['lat']\n",
    "lon2 = joel[0]['lng']\n",
    "\n",
    "dinda_joel = haversine(lon1, lat1, lon2, lat2)\n",
    "\n",
    "print('Distance (km) : ', dinda_joel)"
   ]
  },
  {
   "cell_type": "code",
   "execution_count": 49,
   "metadata": {},
   "outputs": [
    {
     "name": "stdout",
     "output_type": "stream",
     "text": [
      "Distance (km) :  2.657247222724738\n"
     ]
    }
   ],
   "source": [
    "dinda = [{'lat': -6.356010, 'lng': 106.791060}]\n",
    "ijar = [{'lat': -6.353921510960608, 'lng': 106.76710705254781}]\n",
    "\n",
    "lat1 = dinda[0]['lat']\n",
    "lon1 = dinda[0]['lng']\n",
    "lat2 = ijar[0]['lat']\n",
    "lon2 = ijar[0]['lng']\n",
    "\n",
    "dinda_ijar = haversine(lon1, lat1, lon2, lat2)\n",
    "\n",
    "print('Distance (km) : ', dinda_ijar)"
   ]
  },
  {
   "cell_type": "code",
   "execution_count": 50,
   "metadata": {},
   "outputs": [
    {
     "name": "stdout",
     "output_type": "stream",
     "text": [
      "Distance (km) :  9.059725853447715\n"
     ]
    }
   ],
   "source": [
    "dinda = [{'lat': -6.356010, 'lng': 106.791060}]\n",
    "hani = [{'lat': -6.283919753574575, 'lng': 106.75286278796244}]\n",
    "\n",
    "lat1 = dinda[0]['lat']\n",
    "lon1 = dinda[0]['lng']\n",
    "lat2 = hani[0]['lat']\n",
    "lon2 = hani[0]['lng']\n",
    "\n",
    "dinda_hani = haversine(lon1, lat1, lon2, lat2)\n",
    "\n",
    "print('Distance (km) : ', dinda_hani)"
   ]
  },
  {
   "cell_type": "code",
   "execution_count": 51,
   "metadata": {},
   "outputs": [
    {
     "name": "stdout",
     "output_type": "stream",
     "text": [
      "Distance (km) :  19.900246798891498\n"
     ]
    }
   ],
   "source": [
    "dinda = [{'lat': -6.356010, 'lng': 106.791060}]\n",
    "farah = [{'lat': -6.246916492911282, 'lng': 106.93379513905295}]\n",
    "\n",
    "lat1 = dinda[0]['lat']\n",
    "lon1 = dinda[0]['lng']\n",
    "lat2 = farah[0]['lat']\n",
    "lon2 = farah[0]['lng']\n",
    "\n",
    "dinda_farah = haversine(lon1, lat1, lon2, lat2)\n",
    "\n",
    "print('Distance (km) : ', dinda_farah)"
   ]
  },
  {
   "cell_type": "code",
   "execution_count": 52,
   "metadata": {},
   "outputs": [
    {
     "name": "stdout",
     "output_type": "stream",
     "text": [
      "Distance (km) :  10.405777136908684\n"
     ]
    }
   ],
   "source": [
    "dinda = [{'lat': -6.356010, 'lng': 106.791060}]\n",
    "astari = [{'lat': -6.274713216907242, 'lng': 106.83769288106527}]\n",
    "\n",
    "lat1 = dinda[0]['lat']\n",
    "lon1 = dinda[0]['lng']\n",
    "lat2 = astari[0]['lat']\n",
    "lon2 = astari[0]['lng']\n",
    "\n",
    "dinda_astari = haversine(lon1, lat1, lon2, lat2)\n",
    "\n",
    "print('Distance (km) : ', dinda_astari)"
   ]
  },
  {
   "cell_type": "code",
   "execution_count": 53,
   "metadata": {},
   "outputs": [
    {
     "name": "stdout",
     "output_type": "stream",
     "text": [
      "Distance (km) :  12.291373088106159\n"
     ]
    }
   ],
   "source": [
    "dinda = [{'lat': -6.356010, 'lng': 106.791060}]\n",
    "deka = [{'lat': -6.466542968409356, 'lng': 106.79221948138435}]\n",
    "\n",
    "lat1 = dinda[0]['lat']\n",
    "lon1 = dinda[0]['lng']\n",
    "lat2 = deka[0]['lat']\n",
    "lon2 = deka[0]['lng']\n",
    "\n",
    "dinda_deka = haversine(lon1, lat1, lon2, lat2)\n",
    "\n",
    "print('Distance (km) : ', dinda_deka)"
   ]
  },
  {
   "cell_type": "code",
   "execution_count": 54,
   "metadata": {},
   "outputs": [
    {
     "name": "stdout",
     "output_type": "stream",
     "text": [
      "Distance (km) :  7.072365087868876\n"
     ]
    }
   ],
   "source": [
    "dinda = [{'lat': -6.356010, 'lng': 106.791060}]\n",
    "edri = [{'lat': -6.362735750000001, 'lng': 106.85469828433078}]\n",
    "\n",
    "lat1 = dinda[0]['lat']\n",
    "lon1 = dinda[0]['lng']\n",
    "lat2 = edri[0]['lat']\n",
    "lon2 = edri[0]['lng']\n",
    "\n",
    "dinda_edri = haversine(lon1, lat1, lon2, lat2)\n",
    "\n",
    "print('Distance (km) : ', dinda_edri)"
   ]
  },
  {
   "cell_type": "code",
   "execution_count": 55,
   "metadata": {},
   "outputs": [
    {
     "name": "stdout",
     "output_type": "stream",
     "text": [
      "Distance (km) :  35.25884803705743\n"
     ]
    }
   ],
   "source": [
    "dinda = [{'lat': -6.356010, 'lng': 106.791060}]\n",
    "aji = [{'lat': -6.242900, 'lng': 107.089090}]\n",
    "\n",
    "lat1 = dinda[0]['lat']\n",
    "lon1 = dinda[0]['lng']\n",
    "lat2 = aji[0]['lat']\n",
    "lon2 = aji[0]['lng']\n",
    "\n",
    "dinda_aji = haversine(lon1, lat1, lon2, lat2)\n",
    "\n",
    "print('Distance (km) : ', dinda_aji)"
   ]
  },
  {
   "cell_type": "code",
   "execution_count": null,
   "metadata": {},
   "outputs": [],
   "source": []
  },
  {
   "cell_type": "code",
   "execution_count": 56,
   "metadata": {},
   "outputs": [
    {
     "name": "stdout",
     "output_type": "stream",
     "text": [
      "Distance (km) :  29.131778882575937\n"
     ]
    }
   ],
   "source": [
    "aji = [{'lat': -6.242900, 'lng': 107.089090}]\n",
    "edri = [{'lat': -6.362735750000001, 'lng': 106.85469828433078}]\n",
    "\n",
    "lat1 = aji[0]['lat']\n",
    "lon1 = aji[0]['lng']\n",
    "lat2 = edri[0]['lat']\n",
    "lon2 = edri[0]['lng']\n",
    "\n",
    "aji_edri = haversine(lon1, lat1, lon2, lat2)\n",
    "\n",
    "print('Distance (km) : ', aji_edri)"
   ]
  },
  {
   "cell_type": "code",
   "execution_count": 57,
   "metadata": {},
   "outputs": [
    {
     "name": "stdout",
     "output_type": "stream",
     "text": [
      "Distance (km) :  41.16743022546769\n"
     ]
    }
   ],
   "source": [
    "aji = [{'lat': -6.242900, 'lng': 107.089090}]\n",
    "deka = [{'lat': -6.466542968409356, 'lng': 106.79221948138435}]\n",
    "\n",
    "lat1 = aji[0]['lat']\n",
    "lon1 = aji[0]['lng']\n",
    "lat2 = deka[0]['lat']\n",
    "lon2 = deka[0]['lng']\n",
    "\n",
    "aji_deka = haversine(lon1, lat1, lon2, lat2)\n",
    "\n",
    "print('Distance (km) : ', aji_deka)"
   ]
  },
  {
   "cell_type": "code",
   "execution_count": 58,
   "metadata": {},
   "outputs": [
    {
     "name": "stdout",
     "output_type": "stream",
     "text": [
      "Distance (km) :  28.01172862311643\n"
     ]
    }
   ],
   "source": [
    "aji = [{'lat': -6.242900, 'lng': 107.089090}]\n",
    "astari = [{'lat': -6.274713216907242, 'lng': 106.83769288106527}]\n",
    "\n",
    "lat1 = aji[0]['lat']\n",
    "lon1 = aji[0]['lng']\n",
    "lat2 = astari[0]['lat']\n",
    "lon2 = astari[0]['lng']\n",
    "\n",
    "aji_astari = haversine(lon1, lat1, lon2, lat2)\n",
    "\n",
    "print('Distance (km) : ', aji_astari)"
   ]
  },
  {
   "cell_type": "code",
   "execution_count": 59,
   "metadata": {},
   "outputs": [
    {
     "name": "stdout",
     "output_type": "stream",
     "text": [
      "Distance (km) :  17.171341470405423\n"
     ]
    }
   ],
   "source": [
    "aji = [{'lat': -6.242900, 'lng': 107.089090}]\n",
    "farah = [{'lat': -6.246916492911282, 'lng': 106.93379513905295}]\n",
    "\n",
    "lat1 = aji[0]['lat']\n",
    "lon1 = aji[0]['lng']\n",
    "lat2 = farah[0]['lat']\n",
    "lon2 = farah[0]['lng']\n",
    "\n",
    "aji_farah = haversine(lon1, lat1, lon2, lat2)\n",
    "\n",
    "print('Distance (km) : ', aji_farah)"
   ]
  },
  {
   "cell_type": "code",
   "execution_count": 60,
   "metadata": {},
   "outputs": [
    {
     "name": "stdout",
     "output_type": "stream",
     "text": [
      "Distance (km) :  37.442448159339996\n"
     ]
    }
   ],
   "source": [
    "aji = [{'lat': -6.242900, 'lng': 107.089090}]\n",
    "hani = [{'lat': -6.283919753574575, 'lng': 106.75286278796244}]\n",
    "\n",
    "lat1 = aji[0]['lat']\n",
    "lon1 = aji[0]['lng']\n",
    "lat2 = hani[0]['lat']\n",
    "lon2 = hani[0]['lng']\n",
    "\n",
    "aji_hani = haversine(lon1, lat1, lon2, lat2)\n",
    "\n",
    "print('Distance (km) : ', aji_hani)"
   ]
  },
  {
   "cell_type": "code",
   "execution_count": 61,
   "metadata": {},
   "outputs": [
    {
     "name": "stdout",
     "output_type": "stream",
     "text": [
      "Distance (km) :  37.667188114109734\n"
     ]
    }
   ],
   "source": [
    "aji = [{'lat': -6.242900, 'lng': 107.089090}]\n",
    "ijar = [{'lat': -6.353921510960608, 'lng': 106.76710705254781}]\n",
    "\n",
    "lat1 = aji[0]['lat']\n",
    "lon1 = aji[0]['lng']\n",
    "lat2 = ijar[0]['lat']\n",
    "lon2 = ijar[0]['lng']\n",
    "\n",
    "aji_ijar = haversine(lon1, lat1, lon2, lat2)\n",
    "\n",
    "print('Distance (km) : ', aji_ijar)"
   ]
  },
  {
   "cell_type": "code",
   "execution_count": 62,
   "metadata": {},
   "outputs": [
    {
     "name": "stdout",
     "output_type": "stream",
     "text": [
      "Distance (km) :  44.7980516831951\n"
     ]
    }
   ],
   "source": [
    "aji = [{'lat': -6.242900, 'lng': 107.089090}]\n",
    "joel = [{'lat': -6.130573936089557, 'lng': 106.69992030579681}]\n",
    "\n",
    "lat1 = aji[0]['lat']\n",
    "lon1 = aji[0]['lng']\n",
    "lat2 = joel[0]['lat']\n",
    "lon2 = joel[0]['lng']\n",
    "\n",
    "aji_joel = haversine(lon1, lat1, lon2, lat2)\n",
    "\n",
    "print('Distance (km) : ', aji_joel)"
   ]
  },
  {
   "cell_type": "code",
   "execution_count": 63,
   "metadata": {},
   "outputs": [
    {
     "name": "stdout",
     "output_type": "stream",
     "text": [
      "Distance (km) :  13.014311051413532\n"
     ]
    }
   ],
   "source": [
    "aji = [{'lat': -6.242900, 'lng': 107.089090}]\n",
    "mega = [{'lat': -6.205000777986647, 'lng': 106.97769892555858}]\n",
    "\n",
    "lat1 = aji[0]['lat']\n",
    "lon1 = aji[0]['lng']\n",
    "lat2 = mega[0]['lat']\n",
    "lon2 = mega[0]['lng']\n",
    "\n",
    "aji_mega = haversine(lon1, lat1, lon2, lat2)\n",
    "\n",
    "print('Distance (km) : ', aji_mega)"
   ]
  },
  {
   "cell_type": "code",
   "execution_count": 64,
   "metadata": {},
   "outputs": [
    {
     "name": "stdout",
     "output_type": "stream",
     "text": [
      "Distance (km) :  16.639468953707887\n"
     ]
    }
   ],
   "source": [
    "aji = [{'lat': -6.242900, 'lng': 107.089090}]\n",
    "muti = [{'lat': -6.253645250575615, 'lng': 106.93894201021757}]\n",
    "\n",
    "lat1 = aji[0]['lat']\n",
    "lon1 = aji[0]['lng']\n",
    "lat2 = muti[0]['lat']\n",
    "lon2 = muti[0]['lng']\n",
    "\n",
    "aji_muti = haversine(lon1, lat1, lon2, lat2)\n",
    "\n",
    "print('Distance (km) : ', aji_muti)"
   ]
  },
  {
   "cell_type": "code",
   "execution_count": 65,
   "metadata": {},
   "outputs": [
    {
     "name": "stdout",
     "output_type": "stream",
     "text": [
      "Distance (km) :  8.529722185661043\n"
     ]
    }
   ],
   "source": [
    "aji = [{'lat': -6.242900, 'lng': 107.089090}]\n",
    "salma = [{'lat': -6.23162733566554, 'lng': 107.0127613318465}]\n",
    "\n",
    "lat1 = aji[0]['lat']\n",
    "lon1 = aji[0]['lng']\n",
    "lat2 = salma[0]['lat']\n",
    "lon2 = salma[0]['lng']\n",
    "\n",
    "aji_salma = haversine(lon1, lat1, lon2, lat2)\n",
    "\n",
    "print('Distance (km) : ', aji_salma)"
   ]
  },
  {
   "cell_type": "code",
   "execution_count": 66,
   "metadata": {},
   "outputs": [
    {
     "name": "stdout",
     "output_type": "stream",
     "text": [
      "Distance (km) :  39.50319436572115\n"
     ]
    }
   ],
   "source": [
    "aji = [{'lat': -6.242900, 'lng': 107.089090}]\n",
    "caca = [{'lat': -6.276987947141003, 'lng': 106.73334726789834}]\n",
    "\n",
    "lat1 = aji[0]['lat']\n",
    "lon1 = aji[0]['lng']\n",
    "lat2 = caca[0]['lat']\n",
    "lon2 = caca[0]['lng']\n",
    "\n",
    "aji_caca = haversine(lon1, lat1, lon2, lat2)\n",
    "\n",
    "print('Distance (km) : ', aji_caca)"
   ]
  },
  {
   "cell_type": "code",
   "execution_count": 68,
   "metadata": {},
   "outputs": [
    {
     "name": "stdout",
     "output_type": "stream",
     "text": [
      "Distance (km) :  40.13405166285089\n"
     ]
    }
   ],
   "source": [
    "aji = [{'lat': -6.242900, 'lng': 107.089090}]\n",
    "yoga = [{'lat': -6.25797886410994, 'lng': 106.72631439024273}]\n",
    "\n",
    "lat1 = aji[0]['lat']\n",
    "lon1 = aji[0]['lng']\n",
    "lat2 = yoga[0]['lat']\n",
    "lon2 = yoga[0]['lng']\n",
    "\n",
    "aji_yoga = haversine(lon1, lat1, lon2, lat2)\n",
    "\n",
    "print('Distance (km) : ', aji_yoga)"
   ]
  },
  {
   "cell_type": "code",
   "execution_count": 69,
   "metadata": {},
   "outputs": [
    {
     "name": "stdout",
     "output_type": "stream",
     "text": [
      "Distance (km) :  28.088936649477695\n"
     ]
    }
   ],
   "source": [
    "aji = [{'lat': -6.242900, 'lng': 107.089090}]\n",
    "nanda = [{'lat': -6.3340035993195665, 'lng': 106.85205413973226}]\n",
    "\n",
    "lat1 = aji[0]['lat']\n",
    "lon1 = aji[0]['lng']\n",
    "lat2 = nanda[0]['lat']\n",
    "lon2 = nanda[0]['lng']\n",
    "\n",
    "aji_nanda = haversine(lon1, lat1, lon2, lat2)\n",
    "\n",
    "print('Distance (km) : ', aji_nanda)"
   ]
  },
  {
   "cell_type": "code",
   "execution_count": 70,
   "metadata": {},
   "outputs": [
    {
     "name": "stdout",
     "output_type": "stream",
     "text": [
      "Distance (km) :  25.66514228798916\n"
     ]
    }
   ],
   "source": [
    "aji = [{'lat': -6.242900, 'lng': 107.089090}]\n",
    "wiwit = [{'lat': -6.361211805988436, 'lng': 106.88970187967638}]\n",
    "\n",
    "lat1 = aji[0]['lat']\n",
    "lon1 = aji[0]['lng']\n",
    "lat2 = wiwit[0]['lat']\n",
    "lon2 = wiwit[0]['lng']\n",
    "\n",
    "aji_wiwit = haversine(lon1, lat1, lon2, lat2)\n",
    "\n",
    "print('Distance (km) : ', aji_wiwit)"
   ]
  },
  {
   "cell_type": "code",
   "execution_count": null,
   "metadata": {},
   "outputs": [],
   "source": []
  },
  {
   "cell_type": "code",
   "execution_count": 76,
   "metadata": {},
   "outputs": [
    {
     "name": "stdout",
     "output_type": "stream",
     "text": [
      "Distance (km) :  3.8719625050505337\n"
     ]
    }
   ],
   "source": [
    "edri = [{'lat': -6.362735750000001, 'lng': 106.85469828433078}]\n",
    "wiwit = [{'lat': -6.361211805988436, 'lng': 106.88970187967638}]\n",
    "\n",
    "lat1 = edri[0]['lat']\n",
    "lon1 = edri[0]['lng']\n",
    "lat2 = wiwit[0]['lat']\n",
    "lon2 = wiwit[0]['lng']\n",
    "\n",
    "edri_wiwit = haversine(lon1, lat1, lon2, lat2)\n",
    "\n",
    "print('Distance (km) : ', edri_wiwit)"
   ]
  },
  {
   "cell_type": "code",
   "execution_count": 77,
   "metadata": {},
   "outputs": [
    {
     "name": "stdout",
     "output_type": "stream",
     "text": [
      "Distance (km) :  3.208204883511388\n"
     ]
    }
   ],
   "source": [
    "edri = [{'lat': -6.362735750000001, 'lng': 106.85469828433078}]\n",
    "nanda = [{'lat': -6.3340035993195665, 'lng': 106.85205413973226}]\n",
    "\n",
    "lat1 = edri[0]['lat']\n",
    "lon1 = edri[0]['lng']\n",
    "lat2 = nanda[0]['lat']\n",
    "lon2 = nanda[0]['lng']\n",
    "\n",
    "edri_nanda = haversine(lon1, lat1, lon2, lat2)\n",
    "\n",
    "print('Distance (km) : ', edri_nanda)"
   ]
  },
  {
   "cell_type": "code",
   "execution_count": 78,
   "metadata": {},
   "outputs": [
    {
     "name": "stdout",
     "output_type": "stream",
     "text": [
      "Distance (km) :  18.358042977524388\n"
     ]
    }
   ],
   "source": [
    "edri = [{'lat': -6.362735750000001, 'lng': 106.85469828433078}]\n",
    "yoga = [{'lat': -6.25797886410994, 'lng': 106.72631439024273}]\n",
    "\n",
    "lat1 = edri[0]['lat']\n",
    "lon1 = edri[0]['lng']\n",
    "lat2 = yoga[0]['lat']\n",
    "lon2 = yoga[0]['lng']\n",
    "\n",
    "edri_yoga = haversine(lon1, lat1, lon2, lat2)\n",
    "\n",
    "print('Distance (km) : ', edri_yoga)"
   ]
  },
  {
   "cell_type": "code",
   "execution_count": 79,
   "metadata": {},
   "outputs": [
    {
     "name": "stdout",
     "output_type": "stream",
     "text": [
      "Distance (km) :  16.4554632696388\n"
     ]
    }
   ],
   "source": [
    "edri = [{'lat': -6.362735750000001, 'lng': 106.85469828433078}]\n",
    "caca = [{'lat': -6.276987947141003, 'lng': 106.73334726789834}]\n",
    "\n",
    "lat1 = edri[0]['lat']\n",
    "lon1 = edri[0]['lng']\n",
    "lat2 = caca[0]['lat']\n",
    "lon2 = caca[0]['lng']\n",
    "\n",
    "edri_caca = haversine(lon1, lat1, lon2, lat2)\n",
    "\n",
    "print('Distance (km) : ', edri_caca)"
   ]
  },
  {
   "cell_type": "code",
   "execution_count": 80,
   "metadata": {},
   "outputs": [
    {
     "name": "stdout",
     "output_type": "stream",
     "text": [
      "Distance (km) :  22.753632039187107\n"
     ]
    }
   ],
   "source": [
    "edri = [{'lat': -6.362735750000001, 'lng': 106.85469828433078}]\n",
    "salma = [{'lat': -6.23162733566554, 'lng': 107.0127613318465}]\n",
    "\n",
    "lat1 = edri[0]['lat']\n",
    "lon1 = edri[0]['lng']\n",
    "lat2 = salma[0]['lat']\n",
    "lon2 = salma[0]['lng']\n",
    "\n",
    "edri_salma = haversine(lon1, lat1, lon2, lat2)\n",
    "\n",
    "print('Distance (km) : ', edri_salma)"
   ]
  },
  {
   "cell_type": "code",
   "execution_count": 81,
   "metadata": {},
   "outputs": [
    {
     "name": "stdout",
     "output_type": "stream",
     "text": [
      "Distance (km) :  15.291651202526147\n"
     ]
    }
   ],
   "source": [
    "edri = [{'lat': -6.362735750000001, 'lng': 106.85469828433078}]\n",
    "muti = [{'lat': -6.253645250575615, 'lng': 106.93894201021757}]\n",
    "\n",
    "lat1 = edri[0]['lat']\n",
    "lon1 = edri[0]['lng']\n",
    "lat2 = muti[0]['lat']\n",
    "lon2 = muti[0]['lng']\n",
    "\n",
    "edri_muti = haversine(lon1, lat1, lon2, lat2)\n",
    "\n",
    "print('Distance (km) : ', edri_muti)"
   ]
  },
  {
   "cell_type": "code",
   "execution_count": 82,
   "metadata": {},
   "outputs": [
    {
     "name": "stdout",
     "output_type": "stream",
     "text": [
      "Distance (km) :  22.191180668583872\n"
     ]
    }
   ],
   "source": [
    "edri = [{'lat': -6.362735750000001, 'lng': 106.85469828433078}]\n",
    "mega = [{'lat': -6.205000777986647, 'lng': 106.97769892555858}]\n",
    "\n",
    "lat1 = edri[0]['lat']\n",
    "lon1 = edri[0]['lng']\n",
    "lat2 = mega[0]['lat']\n",
    "lon2 = mega[0]['lng']\n",
    "\n",
    "edri_mega = haversine(lon1, lat1, lon2, lat2)\n",
    "\n",
    "print('Distance (km) : ', edri_mega)"
   ]
  },
  {
   "cell_type": "code",
   "execution_count": 83,
   "metadata": {},
   "outputs": [
    {
     "name": "stdout",
     "output_type": "stream",
     "text": [
      "Distance (km) :  30.969667611814067\n"
     ]
    }
   ],
   "source": [
    "edri = [{'lat': -6.362735750000001, 'lng': 106.85469828433078}]\n",
    "joel = [{'lat': -6.130573936089557, 'lng': 106.69992030579681}]\n",
    "\n",
    "lat1 = edri[0]['lat']\n",
    "lon1 = edri[0]['lng']\n",
    "lat2 = joel[0]['lat']\n",
    "lon2 = joel[0]['lng']\n",
    "\n",
    "edri_joel = haversine(lon1, lat1, lon2, lat2)\n",
    "\n",
    "print('Distance (km) : ', edri_joel)"
   ]
  },
  {
   "cell_type": "code",
   "execution_count": 84,
   "metadata": {},
   "outputs": [
    {
     "name": "stdout",
     "output_type": "stream",
     "text": [
      "Distance (km) :  9.729281007773288\n"
     ]
    }
   ],
   "source": [
    "edri = [{'lat': -6.362735750000001, 'lng': 106.85469828433078}]\n",
    "ijar = [{'lat': -6.353921510960608, 'lng': 106.76710705254781}]\n",
    "\n",
    "lat1 = edri[0]['lat']\n",
    "lon1 = edri[0]['lng']\n",
    "lat2 = ijar[0]['lat']\n",
    "lon2 = ijar[0]['lng']\n",
    "\n",
    "edri_ijar = haversine(lon1, lat1, lon2, lat2)\n",
    "\n",
    "print('Distance (km) : ', edri_ijar)"
   ]
  },
  {
   "cell_type": "code",
   "execution_count": 85,
   "metadata": {},
   "outputs": [
    {
     "name": "stdout",
     "output_type": "stream",
     "text": [
      "Distance (km) :  14.26446204716442\n"
     ]
    }
   ],
   "source": [
    "edri = [{'lat': -6.362735750000001, 'lng': 106.85469828433078}]\n",
    "hani = [{'lat': -6.283919753574575, 'lng': 106.75286278796244}]\n",
    "\n",
    "lat1 = edri[0]['lat']\n",
    "lon1 = edri[0]['lng']\n",
    "lat2 = hani[0]['lat']\n",
    "lon2 = hani[0]['lng']\n",
    "\n",
    "edri_hani = haversine(lon1, lat1, lon2, lat2)\n",
    "\n",
    "print('Distance (km) : ', edri_hani)"
   ]
  },
  {
   "cell_type": "code",
   "execution_count": 86,
   "metadata": {},
   "outputs": [
    {
     "name": "stdout",
     "output_type": "stream",
     "text": [
      "Distance (km) :  15.565287860420062\n"
     ]
    }
   ],
   "source": [
    "edri = [{'lat': -6.362735750000001, 'lng': 106.85469828433078}]\n",
    "farah = [{'lat': -6.246916492911282, 'lng': 106.93379513905295}]\n",
    "\n",
    "lat1 = edri[0]['lat']\n",
    "lon1 = edri[0]['lng']\n",
    "lat2 = farah[0]['lat']\n",
    "lon2 = farah[0]['lng']\n",
    "\n",
    "edri_farah = haversine(lon1, lat1, lon2, lat2)\n",
    "\n",
    "print('Distance (km) : ', edri_farah)"
   ]
  },
  {
   "cell_type": "code",
   "execution_count": 87,
   "metadata": {},
   "outputs": [
    {
     "name": "stdout",
     "output_type": "stream",
     "text": [
      "Distance (km) :  9.966469649012195\n"
     ]
    }
   ],
   "source": [
    "edri = [{'lat': -6.362735750000001, 'lng': 106.85469828433078}]\n",
    "astari = [{'lat': -6.274713216907242, 'lng': 106.83769288106527}]\n",
    "\n",
    "lat1 = edri[0]['lat']\n",
    "lon1 = edri[0]['lng']\n",
    "lat2 = astari[0]['lat']\n",
    "lon2 = astari[0]['lng']\n",
    "\n",
    "edri_astari = haversine(lon1, lat1, lon2, lat2)\n",
    "\n",
    "print('Distance (km) : ', edri_astari)"
   ]
  },
  {
   "cell_type": "code",
   "execution_count": 88,
   "metadata": {},
   "outputs": [
    {
     "name": "stdout",
     "output_type": "stream",
     "text": [
      "Distance (km) :  13.449904827128403\n"
     ]
    }
   ],
   "source": [
    "edri = [{'lat': -6.362735750000001, 'lng': 106.85469828433078}]\n",
    "deka = [{'lat': -6.466542968409356, 'lng': 106.79221948138435}]\n",
    "\n",
    "lat1 = edri[0]['lat']\n",
    "lon1 = edri[0]['lng']\n",
    "lat2 = deka[0]['lat']\n",
    "lon2 = deka[0]['lng']\n",
    "\n",
    "edri_deka = haversine(lon1, lat1, lon2, lat2)\n",
    "\n",
    "print('Distance (km) : ', edri_deka)"
   ]
  },
  {
   "cell_type": "code",
   "execution_count": null,
   "metadata": {},
   "outputs": [],
   "source": []
  },
  {
   "cell_type": "code",
   "execution_count": 89,
   "metadata": {},
   "outputs": [
    {
     "name": "stdout",
     "output_type": "stream",
     "text": [
      "Distance (km) :  21.914436102405364\n"
     ]
    }
   ],
   "source": [
    "deka = [{'lat': -6.466542968409356, 'lng': 106.79221948138435}]\n",
    "astari = [{'lat': -6.274713216907242, 'lng': 106.83769288106527}]\n",
    "\n",
    "lat1 = deka[0]['lat']\n",
    "lon1 = deka[0]['lng']\n",
    "lat2 = astari[0]['lat']\n",
    "lon2 = astari[0]['lng']\n",
    "\n",
    "deka_astari = haversine(lon1, lat1, lon2, lat2)\n",
    "\n",
    "print('Distance (km) : ', deka_astari)"
   ]
  },
  {
   "cell_type": "code",
   "execution_count": 90,
   "metadata": {},
   "outputs": [
    {
     "name": "stdout",
     "output_type": "stream",
     "text": [
      "Distance (km) :  29.003278561628548\n"
     ]
    }
   ],
   "source": [
    "deka = [{'lat': -6.466542968409356, 'lng': 106.79221948138435}]\n",
    "farah = [{'lat': -6.246916492911282, 'lng': 106.93379513905295}]\n",
    "\n",
    "lat1 = deka[0]['lat']\n",
    "lon1 = deka[0]['lng']\n",
    "lat2 = farah[0]['lat']\n",
    "lon2 = farah[0]['lng']\n",
    "\n",
    "deka_farah = haversine(lon1, lat1, lon2, lat2)\n",
    "\n",
    "print('Distance (km) : ', deka_farah)"
   ]
  },
  {
   "cell_type": "code",
   "execution_count": 91,
   "metadata": {},
   "outputs": [
    {
     "name": "stdout",
     "output_type": "stream",
     "text": [
      "Distance (km) :  20.76729761716067\n"
     ]
    }
   ],
   "source": [
    "deka = [{'lat': -6.466542968409356, 'lng': 106.79221948138435}]\n",
    "hani = [{'lat': -6.283919753574575, 'lng': 106.75286278796244}]\n",
    "\n",
    "lat1 = deka[0]['lat']\n",
    "lon1 = deka[0]['lng']\n",
    "lat2 = hani[0]['lat']\n",
    "lon2 = hani[0]['lng']\n",
    "\n",
    "deka_hani = haversine(lon1, lat1, lon2, lat2)\n",
    "\n",
    "print('Distance (km) : ', deka_hani)"
   ]
  },
  {
   "cell_type": "code",
   "execution_count": 92,
   "metadata": {},
   "outputs": [
    {
     "name": "stdout",
     "output_type": "stream",
     "text": [
      "Distance (km) :  12.826693021338928\n"
     ]
    }
   ],
   "source": [
    "deka = [{'lat': -6.466542968409356, 'lng': 106.79221948138435}]\n",
    "ijar = [{'lat': -6.353921510960608, 'lng': 106.76710705254781}]\n",
    "\n",
    "lat1 = deka[0]['lat']\n",
    "lon1 = deka[0]['lng']\n",
    "lat2 = ijar[0]['lat']\n",
    "lon2 = ijar[0]['lng']\n",
    "\n",
    "deka_ijar = haversine(lon1, lat1, lon2, lat2)\n",
    "\n",
    "print('Distance (km) : ', deka_ijar)"
   ]
  },
  {
   "cell_type": "code",
   "execution_count": 93,
   "metadata": {},
   "outputs": [
    {
     "name": "stdout",
     "output_type": "stream",
     "text": [
      "Distance (km) :  38.72582088230549\n"
     ]
    }
   ],
   "source": [
    "deka = [{'lat': -6.466542968409356, 'lng': 106.79221948138435}]\n",
    "joel = [{'lat': -6.130573936089557, 'lng': 106.69992030579681}]\n",
    "\n",
    "lat1 = deka[0]['lat']\n",
    "lon1 = deka[0]['lng']\n",
    "lat2 = joel[0]['lat']\n",
    "lon2 = joel[0]['lng']\n",
    "\n",
    "deka_joel = haversine(lon1, lat1, lon2, lat2)\n",
    "\n",
    "print('Distance (km) : ', deka_joel)"
   ]
  },
  {
   "cell_type": "code",
   "execution_count": 94,
   "metadata": {},
   "outputs": [
    {
     "name": "stdout",
     "output_type": "stream",
     "text": [
      "Distance (km) :  35.58027734497459\n"
     ]
    }
   ],
   "source": [
    "deka = [{'lat': -6.466542968409356, 'lng': 106.79221948138435}]\n",
    "mega = [{'lat': -6.205000777986647, 'lng': 106.97769892555858}]\n",
    "\n",
    "lat1 = deka[0]['lat']\n",
    "lon1 = deka[0]['lng']\n",
    "lat2 = mega[0]['lat']\n",
    "lon2 = mega[0]['lng']\n",
    "\n",
    "deka_mega = haversine(lon1, lat1, lon2, lat2)\n",
    "\n",
    "print('Distance (km) : ', deka_mega)"
   ]
  },
  {
   "cell_type": "code",
   "execution_count": 95,
   "metadata": {},
   "outputs": [
    {
     "name": "stdout",
     "output_type": "stream",
     "text": [
      "Distance (km) :  28.693621622411513\n"
     ]
    }
   ],
   "source": [
    "deka = [{'lat': -6.466542968409356, 'lng': 106.79221948138435}]\n",
    "muti = [{'lat': -6.253645250575615, 'lng': 106.93894201021757}]\n",
    "\n",
    "lat1 = deka[0]['lat']\n",
    "lon1 = deka[0]['lng']\n",
    "lat2 = muti[0]['lat']\n",
    "lon2 = muti[0]['lng']\n",
    "\n",
    "deka_muti = haversine(lon1, lat1, lon2, lat2)\n",
    "\n",
    "print('Distance (km) : ', deka_muti)"
   ]
  },
  {
   "cell_type": "code",
   "execution_count": 96,
   "metadata": {},
   "outputs": [
    {
     "name": "stdout",
     "output_type": "stream",
     "text": [
      "Distance (km) :  35.72614924346347\n"
     ]
    }
   ],
   "source": [
    "deka = [{'lat': -6.466542968409356, 'lng': 106.79221948138435}]\n",
    "salma = [{'lat': -6.23162733566554, 'lng': 107.0127613318465}]\n",
    "\n",
    "lat1 = deka[0]['lat']\n",
    "lon1 = deka[0]['lng']\n",
    "lat2 = salma[0]['lat']\n",
    "lon2 = salma[0]['lng']\n",
    "\n",
    "deka_salma = haversine(lon1, lat1, lon2, lat2)\n",
    "\n",
    "print('Distance (km) : ', deka_salma)"
   ]
  },
  {
   "cell_type": "code",
   "execution_count": 97,
   "metadata": {},
   "outputs": [
    {
     "name": "stdout",
     "output_type": "stream",
     "text": [
      "Distance (km) :  22.058773359478725\n"
     ]
    }
   ],
   "source": [
    "deka = [{'lat': -6.466542968409356, 'lng': 106.79221948138435}]\n",
    "caca = [{'lat': -6.276987947141003, 'lng': 106.73334726789834}]\n",
    "\n",
    "lat1 = deka[0]['lat']\n",
    "lon1 = deka[0]['lng']\n",
    "lat2 = caca[0]['lat']\n",
    "lon2 = caca[0]['lng']\n",
    "\n",
    "deka_caca = haversine(lon1, lat1, lon2, lat2)\n",
    "\n",
    "print('Distance (km) : ', deka_caca)"
   ]
  },
  {
   "cell_type": "code",
   "execution_count": 98,
   "metadata": {},
   "outputs": [
    {
     "name": "stdout",
     "output_type": "stream",
     "text": [
      "Distance (km) :  24.308015807833925\n"
     ]
    }
   ],
   "source": [
    "deka = [{'lat': -6.466542968409356, 'lng': 106.79221948138435}]\n",
    "yoga = [{'lat': -6.25797886410994, 'lng': 106.72631439024273}]\n",
    "\n",
    "lat1 = deka[0]['lat']\n",
    "lon1 = deka[0]['lng']\n",
    "lat2 = yoga[0]['lat']\n",
    "lon2 = yoga[0]['lng']\n",
    "\n",
    "deka_yoga = haversine(lon1, lat1, lon2, lat2)\n",
    "\n",
    "print('Distance (km) : ', deka_yoga)"
   ]
  },
  {
   "cell_type": "code",
   "execution_count": 99,
   "metadata": {},
   "outputs": [
    {
     "name": "stdout",
     "output_type": "stream",
     "text": [
      "Distance (km) :  16.15290710458479\n"
     ]
    }
   ],
   "source": [
    "deka = [{'lat': -6.466542968409356, 'lng': 106.79221948138435}]\n",
    "nanda = [{'lat': -6.3340035993195665, 'lng': 106.85205413973226}]\n",
    "\n",
    "lat1 = deka[0]['lat']\n",
    "lon1 = deka[0]['lng']\n",
    "lat2 = nanda[0]['lat']\n",
    "lon2 = nanda[0]['lng']\n",
    "\n",
    "deka_nanda = haversine(lon1, lat1, lon2, lat2)\n",
    "\n",
    "print('Distance (km) : ', deka_nanda)"
   ]
  },
  {
   "cell_type": "code",
   "execution_count": 100,
   "metadata": {},
   "outputs": [
    {
     "name": "stdout",
     "output_type": "stream",
     "text": [
      "Distance (km) :  15.912488557093726\n"
     ]
    }
   ],
   "source": [
    "deka = [{'lat': -6.466542968409356, 'lng': 106.79221948138435}]\n",
    "wiwit = [{'lat': -6.361211805988436, 'lng': 106.88970187967638}]\n",
    "\n",
    "lat1 = deka[0]['lat']\n",
    "lon1 = deka[0]['lng']\n",
    "lat2 = wiwit[0]['lat']\n",
    "lon2 = wiwit[0]['lng']\n",
    "\n",
    "deka_wiwit = haversine(lon1, lat1, lon2, lat2)\n",
    "\n",
    "print('Distance (km) : ', deka_wiwit)"
   ]
  },
  {
   "cell_type": "code",
   "execution_count": 101,
   "metadata": {},
   "outputs": [
    {
     "name": "stdout",
     "output_type": "stream",
     "text": [
      "Distance (km) :  11.06289674309339\n"
     ]
    }
   ],
   "source": [
    "astari = [{'lat': -6.274713216907242, 'lng': 106.83769288106527}]\n",
    "farah = [{'lat': -6.246916492911282, 'lng': 106.93379513905295}]\n",
    "\n",
    "lat1 = astari[0]['lat']\n",
    "lon1 = astari[0]['lng']\n",
    "lat2 = farah[0]['lat']\n",
    "lon2 = farah[0]['lng']\n",
    "\n",
    "astari_farah = haversine(lon1, lat1, lon2, lat2)\n",
    "\n",
    "print('Distance (km) : ', astari_farah)"
   ]
  },
  {
   "cell_type": "code",
   "execution_count": 102,
   "metadata": {},
   "outputs": [
    {
     "name": "stdout",
     "output_type": "stream",
     "text": [
      "Distance (km) :  9.431806112020208\n"
     ]
    }
   ],
   "source": [
    "astari = [{'lat': -6.274713216907242, 'lng': 106.83769288106527}]\n",
    "hani = [{'lat': -6.283919753574575, 'lng': 106.75286278796244}]\n",
    "\n",
    "lat1 = astari[0]['lat']\n",
    "lon1 = astari[0]['lng']\n",
    "lat2 = hani[0]['lat']\n",
    "lon2 = hani[0]['lng']\n",
    "\n",
    "astari_hani = haversine(lon1, lat1, lon2, lat2)\n",
    "\n",
    "print('Distance (km) : ', astari_hani)"
   ]
  },
  {
   "cell_type": "code",
   "execution_count": 103,
   "metadata": {},
   "outputs": [
    {
     "name": "stdout",
     "output_type": "stream",
     "text": [
      "Distance (km) :  11.765686803280035\n"
     ]
    }
   ],
   "source": [
    "astari = [{'lat': -6.274713216907242, 'lng': 106.83769288106527}]\n",
    "ijar = [{'lat': -6.353921510960608, 'lng': 106.76710705254781}]\n",
    "\n",
    "lat1 = astari[0]['lat']\n",
    "lon1 = astari[0]['lng']\n",
    "lat2 = ijar[0]['lat']\n",
    "lon2 = ijar[0]['lng']\n",
    "\n",
    "astari_ijar = haversine(lon1, lat1, lon2, lat2)\n",
    "\n",
    "print('Distance (km) : ', astari_ijar)"
   ]
  },
  {
   "cell_type": "code",
   "execution_count": 104,
   "metadata": {},
   "outputs": [
    {
     "name": "stdout",
     "output_type": "stream",
     "text": [
      "Distance (km) :  22.109572997088552\n"
     ]
    }
   ],
   "source": [
    "astari = [{'lat': -6.274713216907242, 'lng': 106.83769288106527}]\n",
    "joel = [{'lat': -6.130573936089557, 'lng': 106.69992030579681}]\n",
    "\n",
    "lat1 = astari[0]['lat']\n",
    "lon1 = astari[0]['lng']\n",
    "lat2 = joel[0]['lat']\n",
    "lon2 = joel[0]['lng']\n",
    "\n",
    "astari_joel = haversine(lon1, lat1, lon2, lat2)\n",
    "\n",
    "print('Distance (km) : ', astari_joel)"
   ]
  },
  {
   "cell_type": "code",
   "execution_count": 105,
   "metadata": {},
   "outputs": [
    {
     "name": "stdout",
     "output_type": "stream",
     "text": [
      "Distance (km) :  17.308570034369467\n"
     ]
    }
   ],
   "source": [
    "astari = [{'lat': -6.274713216907242, 'lng': 106.83769288106527}]\n",
    "mega = [{'lat': -6.205000777986647, 'lng': 106.97769892555858}]\n",
    "\n",
    "lat1 = astari[0]['lat']\n",
    "lon1 = astari[0]['lng']\n",
    "lat2 = mega[0]['lat']\n",
    "lon2 = mega[0]['lng']\n",
    "\n",
    "astari_mega = haversine(lon1, lat1, lon2, lat2)\n",
    "\n",
    "print('Distance (km) : ', astari_mega)"
   ]
  },
  {
   "cell_type": "code",
   "execution_count": 106,
   "metadata": {},
   "outputs": [
    {
     "name": "stdout",
     "output_type": "stream",
     "text": [
      "Distance (km) :  11.433734842815237\n"
     ]
    }
   ],
   "source": [
    "astari = [{'lat': -6.274713216907242, 'lng': 106.83769288106527}]\n",
    "muti = [{'lat': -6.253645250575615, 'lng': 106.93894201021757}]\n",
    "\n",
    "lat1 = astari[0]['lat']\n",
    "lon1 = astari[0]['lng']\n",
    "lat2 = muti[0]['lat']\n",
    "lon2 = muti[0]['lng']\n",
    "\n",
    "astari_muti = haversine(lon1, lat1, lon2, lat2)\n",
    "\n",
    "print('Distance (km) : ', astari_muti)"
   ]
  },
  {
   "cell_type": "code",
   "execution_count": 107,
   "metadata": {},
   "outputs": [
    {
     "name": "stdout",
     "output_type": "stream",
     "text": [
      "Distance (km) :  19.93515574357047\n"
     ]
    }
   ],
   "source": [
    "astari = [{'lat': -6.274713216907242, 'lng': 106.83769288106527}]\n",
    "salma = [{'lat': -6.23162733566554, 'lng': 107.0127613318465}]\n",
    "\n",
    "lat1 = astari[0]['lat']\n",
    "lon1 = astari[0]['lng']\n",
    "lat2 = salma[0]['lat']\n",
    "lon2 = salma[0]['lng']\n",
    "\n",
    "astari_salma = haversine(lon1, lat1, lon2, lat2)\n",
    "\n",
    "print('Distance (km) : ', astari_salma)"
   ]
  },
  {
   "cell_type": "code",
   "execution_count": 108,
   "metadata": {},
   "outputs": [
    {
     "name": "stdout",
     "output_type": "stream",
     "text": [
      "Distance (km) :  11.535942474613384\n"
     ]
    }
   ],
   "source": [
    "astari = [{'lat': -6.274713216907242, 'lng': 106.83769288106527}]\n",
    "caca = [{'lat': -6.276987947141003, 'lng': 106.73334726789834}]\n",
    "\n",
    "lat1 = astari[0]['lat']\n",
    "lon1 = astari[0]['lng']\n",
    "lat2 = caca[0]['lat']\n",
    "lon2 = caca[0]['lng']\n",
    "\n",
    "astari_caca = haversine(lon1, lat1, lon2, lat2)\n",
    "\n",
    "print('Distance (km) : ', astari_caca)"
   ]
  },
  {
   "cell_type": "code",
   "execution_count": 109,
   "metadata": {},
   "outputs": [
    {
     "name": "stdout",
     "output_type": "stream",
     "text": [
      "Distance (km) :  12.450561851213122\n"
     ]
    }
   ],
   "source": [
    "astari = [{'lat': -6.274713216907242, 'lng': 106.83769288106527}]\n",
    "yoga = [{'lat': -6.25797886410994, 'lng': 106.72631439024273}]\n",
    "\n",
    "lat1 = astari[0]['lat']\n",
    "lon1 = astari[0]['lng']\n",
    "lat2 = yoga[0]['lat']\n",
    "lon2 = yoga[0]['lng']\n",
    "\n",
    "astari_yoga = haversine(lon1, lat1, lon2, lat2)\n",
    "\n",
    "print('Distance (km) : ', astari_yoga)"
   ]
  },
  {
   "cell_type": "code",
   "execution_count": 110,
   "metadata": {},
   "outputs": [
    {
     "name": "stdout",
     "output_type": "stream",
     "text": [
      "Distance (km) :  6.781166075569587\n"
     ]
    }
   ],
   "source": [
    "astari = [{'lat': -6.274713216907242, 'lng': 106.83769288106527}]\n",
    "nanda = [{'lat': -6.3340035993195665, 'lng': 106.85205413973226}]\n",
    "\n",
    "lat1 = astari[0]['lat']\n",
    "lon1 = astari[0]['lng']\n",
    "lat2 = nanda[0]['lat']\n",
    "lon2 = nanda[0]['lng']\n",
    "\n",
    "astari_nanda = haversine(lon1, lat1, lon2, lat2)\n",
    "\n",
    "print('Distance (km) : ', astari_nanda)"
   ]
  },
  {
   "cell_type": "code",
   "execution_count": 112,
   "metadata": {},
   "outputs": [
    {
     "name": "stdout",
     "output_type": "stream",
     "text": [
      "Distance (km) :  11.204887301469281\n"
     ]
    }
   ],
   "source": [
    "astari = [{'lat': -6.274713216907242, 'lng': 106.83769288106527}]\n",
    "wiwit = [{'lat': -6.361211805988436, 'lng': 106.88970187967638}]\n",
    "\n",
    "lat1 = astari[0]['lat']\n",
    "lon1 = astari[0]['lng']\n",
    "lat2 = wiwit[0]['lat']\n",
    "lon2 = wiwit[0]['lng']\n",
    "\n",
    "astari_wiwit = haversine(lon1, lat1, lon2, lat2)\n",
    "\n",
    "print('Distance (km) : ', astari_wiwit)"
   ]
  },
  {
   "cell_type": "code",
   "execution_count": 122,
   "metadata": {},
   "outputs": [
    {
     "name": "stdout",
     "output_type": "stream",
     "text": [
      "Distance (km) :  13.611363592878615\n"
     ]
    }
   ],
   "source": [
    "farah = [{'lat': -6.246916492911282, 'lng': 106.93379513905295}]\n",
    "wiwit = [{'lat': -6.361211805988436, 'lng': 106.88970187967638}]\n",
    "\n",
    "lat1 = farah[0]['lat']\n",
    "lon1 = farah[0]['lng']\n",
    "lat2 = wiwit[0]['lat']\n",
    "lon2 = wiwit[0]['lng']\n",
    "\n",
    "farah = haversine(lon1, lat1, lon2, lat2)\n",
    "\n",
    "print('Distance (km) : ', farah)"
   ]
  },
  {
   "cell_type": "code",
   "execution_count": 132,
   "metadata": {},
   "outputs": [
    {
     "name": "stdout",
     "output_type": "stream",
     "text": [
      "Distance (km) :  7.94144109422006\n"
     ]
    }
   ],
   "source": [
    "hani = [{'lat': -6.283919753574575, 'lng': 106.75286278796244}]\n",
    "ijar = [{'lat': -6.353921510960608, 'lng': 106.76710705254781}]\n",
    "\n",
    "lat1 = hani[0]['lat']\n",
    "lon1 = hani[0]['lng']\n",
    "lat2 = ijar[0]['lat']\n",
    "lon2 = ijar[0]['lng']\n",
    "\n",
    "jhani = haversine(lon1, lat1, lon2, lat2)\n",
    "\n",
    "print('Distance (km) : ', jhani)"
   ]
  },
  {
   "cell_type": "code",
   "execution_count": 141,
   "metadata": {},
   "outputs": [
    {
     "name": "stdout",
     "output_type": "stream",
     "text": [
      "Distance (km) :  13.572319764849542\n"
     ]
    }
   ],
   "source": [
    "ijar = [{'lat': -6.353921510960608, 'lng': 106.76710705254781}]\n",
    "wiwit = [{'lat': -6.361211805988436, 'lng': 106.88970187967638}]\n",
    "\n",
    "lat1 = ijar[0]['lat']\n",
    "lon1 = ijar[0]['lng']\n",
    "lat2 = wiwit[0]['lat']\n",
    "lon2 = wiwit[0]['lng']\n",
    "\n",
    "jijar = haversine(lon1, lat1, lon2, lat2)\n",
    "\n",
    "print('Distance (km) : ', jijar)"
   ]
  },
  {
   "cell_type": "code",
   "execution_count": 13,
   "metadata": {},
   "outputs": [
    {
     "name": "stdout",
     "output_type": "stream",
     "text": [
      "Distance (km) :  28.405089847588023\n"
     ]
    }
   ],
   "source": [
    "mega = [{'lat': -6.205000777986647, 'lng': 106.97769892555858}]\n",
    "yoga = [{'lat': -6.25797886410994, 'lng': 106.72631439024273}]\n",
    "\n",
    "lat1 = mega[0]['lat']\n",
    "lon1 = mega[0]['lng']\n",
    "lat2 = yoga[0]['lat']\n",
    "lon2 = yoga[0]['lng']\n",
    "\n",
    "jmega = haversine(lon1, lat1, lon2, lat2)\n",
    "\n",
    "print('Distance (km) : ', jmega)"
   ]
  },
  {
   "cell_type": "code",
   "execution_count": 9,
   "metadata": {},
   "outputs": [
    {
     "name": "stdout",
     "output_type": "stream",
     "text": [
      "Distance (km) :  29.756480437728307\n"
     ]
    }
   ],
   "source": [
    "joel = [{'lat': -6.130573936089557, 'lng': 106.69992030579681}]\n",
    "muti = [{'lat': -6.253645250575615, 'lng': 106.93894201021757}]\n",
    "\n",
    "lat1 = joel[0]['lat']\n",
    "lon1 = joel[0]['lng']\n",
    "lat2 = muti[0]['lat']\n",
    "lon2 = muti[0]['lng']\n",
    "\n",
    "jwiwit = haversine(lon1, lat1, lon2, lat2)\n",
    "\n",
    "print('Distance (km) : ', jwiwit)"
   ]
  },
  {
   "cell_type": "code",
   "execution_count": 18,
   "metadata": {},
   "outputs": [
    {
     "name": "stdout",
     "output_type": "stream",
     "text": [
      "Distance (km) :  13.140723131675454\n"
     ]
    }
   ],
   "source": [
    "muti = [{'lat': -6.253645250575615, 'lng': 106.93894201021757}]\n",
    "wiwit = [{'lat': -6.361211805988436, 'lng': 106.88970187967638}]\n",
    "\n",
    "lat1 = muti[0]['lat']\n",
    "lon1 = muti[0]['lng']\n",
    "lat2 = wiwit[0]['lat']\n",
    "lon2 = wiwit[0]['lng']\n",
    "\n",
    "jmuti = haversine(lon1, lat1, lon2, lat2)\n",
    "\n",
    "print('Distance (km) : ', jmuti)"
   ]
  },
  {
   "cell_type": "code",
   "execution_count": 25,
   "metadata": {},
   "outputs": [
    {
     "name": "stdout",
     "output_type": "stream",
     "text": [
      "Distance (km) :  21.097280624610868\n"
     ]
    }
   ],
   "source": [
    "salma = [{'lat': -6.23162733566554, 'lng': 107.0127613318465}]\n",
    "nanda = [{'lat': -6.3340035993195665, 'lng': 106.85205413973226}]\n",
    "\n",
    "lat1 = salma[0]['lat']\n",
    "lon1 = salma[0]['lng']\n",
    "lat2 = nanda[0]['lat']\n",
    "lon2 = nanda[0]['lng']\n",
    "\n",
    "jsalma = haversine(lon1, lat1, lon2, lat2)\n",
    "\n",
    "print('Distance (km) : ', jsalma)"
   ]
  },
  {
   "cell_type": "code",
   "execution_count": 27,
   "metadata": {},
   "outputs": [
    {
     "name": "stdout",
     "output_type": "stream",
     "text": [
      "Distance (km) :  2.252121737128906\n"
     ]
    }
   ],
   "source": [
    "caca = [{'lat': -6.276987947141003, 'lng': 106.73334726789834}]\n",
    "yoga = [{'lat': -6.25797886410994, 'lng': 106.72631439024273}]\n",
    "\n",
    "lat1 = caca[0]['lat']\n",
    "lon1 = caca[0]['lng']\n",
    "lat2 = yoga[0]['lat']\n",
    "lon2 = yoga[0]['lng']\n",
    "\n",
    "jcaca = haversine(lon1, lat1, lon2, lat2)\n",
    "\n",
    "print('Distance (km) : ', jcaca)"
   ]
  },
  {
   "cell_type": "code",
   "execution_count": 30,
   "metadata": {},
   "outputs": [
    {
     "name": "stdout",
     "output_type": "stream",
     "text": [
      "Distance (km) :  5.144269247270707\n"
     ]
    }
   ],
   "source": [
    "nanda = [{'lat': -6.3340035993195665, 'lng': 106.85205413973226}]\n",
    "wiwit = [{'lat': -6.361211805988436, 'lng': 106.88970187967638}]\n",
    "\n",
    "lat1 = nanda[0]['lat']\n",
    "lon1 = nanda[0]['lng']\n",
    "lat2 = wiwit[0]['lat']\n",
    "lon2 = wiwit[0]['lng']\n",
    "\n",
    "jnanda = haversine(lon1, lat1, lon2, lat2)\n",
    "\n",
    "print('Distance (km) : ', jnanda)"
   ]
  },
  {
   "cell_type": "code",
   "execution_count": null,
   "metadata": {},
   "outputs": [],
   "source": []
  },
  {
   "cell_type": "code",
   "execution_count": 9,
   "metadata": {},
   "outputs": [
    {
     "name": "stdout",
     "output_type": "stream",
     "text": [
      "Masih Terjangkau\n"
     ]
    }
   ],
   "source": [
    "area = 10.00 # in kilometer\n",
    "if a <= area:\n",
    "    print('Masih Terjangkau')\n",
    "else:\n",
    "    print('Jauh Banget :(')"
   ]
  },
  {
   "cell_type": "code",
   "execution_count": null,
   "metadata": {},
   "outputs": [],
   "source": [
    "location_dandy = [-6.286644, 106.794241]\n",
    "location_dinda = [-6.356010, 106.791060]\n",
    "location_aji = [-6.242900, 107.089090]\n",
    "location_edri = [-6.362735750000001, 106.85469828433078]\n",
    "location_deka = [-6.466542968409356, 106.79221948138435]\n",
    "location_astari = [-6.274595906706619, 106.83771433873623]\n",
    "location_farah = [-6.246916492911282, 106.93379513905295]\n",
    "location_izhar = [-6.353921510960608, 106.76710705254781]\n",
    "location_mega = [-6.205000777986647, 106.97769892555858]\n",
    "location_muti = [-6.253645250575615, 106.93894201021757]\n",
    "location_salma = [-6.23162733566554, 107.0127613318465]\n",
    "location_refina = [-6.276987947141003, 106.73334726789834]\n",
    "location_yoga = [-6.25797886410994, 106.72631439024273]\n",
    "location_nanda = [-6.3340035993195665, 106.85205413973226]\n",
    "location_wiwit = [-6.361211805988436, 106.88970187967638]\n"
   ]
  }
 ],
 "metadata": {
  "kernelspec": {
   "display_name": "Python 3",
   "language": "python",
   "name": "python3"
  },
  "language_info": {
   "codemirror_mode": {
    "name": "ipython",
    "version": 3
   },
   "file_extension": ".py",
   "mimetype": "text/x-python",
   "name": "python",
   "nbconvert_exporter": "python",
   "pygments_lexer": "ipython3",
   "version": "3.8.6"
  }
 },
 "nbformat": 4,
 "nbformat_minor": 4
}
