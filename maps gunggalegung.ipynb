{
 "cells": [
  {
   "cell_type": "code",
   "execution_count": 1,
   "metadata": {},
   "outputs": [],
   "source": [
    "import folium\n",
    "from folium import plugins"
   ]
  },
  {
   "cell_type": "code",
   "execution_count": null,
   "metadata": {},
   "outputs": [],
   "source": [
    "folium.raster_layers.TileLayer(‘Open Street Map’).add_to(map_type)\n",
    "folium.raster_layers.TileLayer(‘Stamen Terrain’).add_to(map_type)\n",
    "folium.raster_layers.TileLayer(‘Stamen Toner’).add_to(map_type)\n",
    "folium.raster_layers.TileLayer(‘Stamen Watercolor’).add_to(map_type)\n",
    "folium.raster_layers.TileLayer(‘CartoDB Positron’).add_to(map_type)\n",
    "folium.raster_layers.TileLayer(‘CartoDB Dark_Matter’).add_to(map_type)"
   ]
  },
  {
   "cell_type": "code",
   "execution_count": 2,
   "metadata": {},
   "outputs": [],
   "source": [
    "m = folium.Map(location=[-6.175110, 106.865036], tiles =\"Open Street Map\" , zoom_start=11)\n"
   ]
  },
  {
   "cell_type": "code",
   "execution_count": 3,
   "metadata": {},
   "outputs": [
    {
     "data": {
      "text/html": [
       "<div style=\"width:100%;\"><div style=\"position:relative;width:100%;height:0;padding-bottom:60%;\"><span style=\"color:#565656\">Make this Notebook Trusted to load map: File -> Trust Notebook</span><iframe src=\"about:blank\" style=\"position:absolute;width:100%;height:100%;left:0;top:0;border:none !important;\" data-html=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 onload=\"this.contentDocument.open();this.contentDocument.write(atob(this.getAttribute('data-html')));this.contentDocument.close();\" allowfullscreen webkitallowfullscreen mozallowfullscreen></iframe></div></div>"
      ],
      "text/plain": [
       "<folium.folium.Map at 0xf27c160>"
      ]
     },
     "execution_count": 3,
     "metadata": {},
     "output_type": "execute_result"
    }
   ],
   "source": [
    "# add plugin mini map\n",
    "mini_map = plugins.MiniMap(toggle_display=True)\n",
    "# add the mini map to the big map\n",
    "m.add_child(mini_map)\n",
    "m"
   ]
  },
  {
   "cell_type": "code",
   "execution_count": 4,
   "metadata": {},
   "outputs": [
    {
     "data": {
      "text/plain": [
       "<folium.map.Marker at 0x4fc79d0>"
      ]
     },
     "execution_count": 4,
     "metadata": {},
     "output_type": "execute_result"
    }
   ],
   "source": [
    "#Dandy\n",
    "\n",
    "location_dandy = [-6.2878703524813755, 106.79111202524273]\n",
    "icon_dandy = folium.features.CustomIcon('./foto gunggalegung/dandy.png', icon_size=(30,50))\n",
    "popup_dandy = \"<strong>Dandy</strong><br>Nama : Adam Dandy Putra Novianto<br>No. Anggota : UFO.018.V.001<br> Tempat/Tanggal lahir : Tanggerang, 6 Agustus 1999\"\n",
    "folium.Marker(location=location_dandy, tooltip=\"Dandy\", popup=popup_dandy, icon=icon_dandy).add_to(m)\n",
    "#m"
   ]
  },
  {
   "cell_type": "code",
   "execution_count": 5,
   "metadata": {},
   "outputs": [
    {
     "data": {
      "text/plain": [
       "<folium.map.Marker at 0x4fc7520>"
      ]
     },
     "execution_count": 5,
     "metadata": {},
     "output_type": "execute_result"
    }
   ],
   "source": [
    "#Dinda Zein\n",
    "\n",
    "location_dinda = [-6.356010, 106.791060]\n",
    "icon_dinda= folium.features.CustomIcon('./foto gunggalegung/dinda.png', icon_size=(30,50))\n",
    "popup_dinda = \"<strong>Dinda</strong><br>Nama : Adinda Zein Nur<br>No. Anggota : UFO.018.V.002<br> Tempat/Tanggal lahir : Jakarta, 14 Mei 1998\"\n",
    "folium.Marker(location=location_dinda, tooltip=\"Dinda Zein\", popup=popup_dinda, icon=icon_dinda).add_to(m)\n",
    "#m"
   ]
  },
  {
   "cell_type": "code",
   "execution_count": 6,
   "metadata": {},
   "outputs": [
    {
     "data": {
      "text/plain": [
       "<folium.map.Marker at 0x4fd3160>"
      ]
     },
     "execution_count": 6,
     "metadata": {},
     "output_type": "execute_result"
    }
   ],
   "source": [
    "#Aji\n",
    "\n",
    "location_aji = [-6.242900, 107.089090]\n",
    "icon_aji = folium.features.CustomIcon('./foto gunggalegung/aji.png', icon_size=(30,50))\n",
    "popup_aji = \"<strong>Aji</strong><br>Nama : Aji Farhan Utomo<br>No. Anggota : UFO.018.V.003<br> Tempat/Tanggal lahir : Bogor, 17 Juni 2000\"\n",
    "folium.Marker(location=location_aji, tooltip=\"Aji\", popup=popup_aji, icon=icon_aji).add_to(m)\n",
    "#m"
   ]
  },
  {
   "cell_type": "code",
   "execution_count": 7,
   "metadata": {},
   "outputs": [
    {
     "data": {
      "text/plain": [
       "<folium.map.Marker at 0x4fc77f0>"
      ]
     },
     "execution_count": 7,
     "metadata": {},
     "output_type": "execute_result"
    }
   ],
   "source": [
    "#Edri\n",
    "\n",
    "location_edri = [-6.362735750000001, 106.85469828433078]\n",
    "icon_edri = folium.features.CustomIcon('./foto gunggalegung/edri.png', icon_size=(30,50))\n",
    "popup_edri = \"<strong>Edri</strong><br>Nama : Anissa Edriani Zahra<br>No. Anggota : UFO.018.V.004<br> Tempat/Tanggal lahir : Jakarta, 30 September 1999\"\n",
    "folium.Marker(location=location_edri, tooltip=\"Edri\", popup=popup_edri, icon=icon_edri).add_to(m)\n",
    "#m"
   ]
  },
  {
   "cell_type": "code",
   "execution_count": 8,
   "metadata": {},
   "outputs": [
    {
     "data": {
      "text/plain": [
       "<folium.map.Marker at 0xefeda90>"
      ]
     },
     "execution_count": 8,
     "metadata": {},
     "output_type": "execute_result"
    }
   ],
   "source": [
    "#Deka\n",
    "\n",
    "location_deka = [-6.466542968409356, 106.79221948138435]\n",
    "icon_deka = folium.features.CustomIcon('./foto gunggalegung/deka.png', icon_size=(30,50))\n",
    "popup_deka = \"<strong>Deka</strong><br>Nama : Annisa Dwi Kusumawati<br>No. Anggota : UFO.018.V.005<br> Tempat/Tanggal lahir : Jakarta, 10 Agustus 1998\"\n",
    "folium.Marker(location=location_deka, tooltip=\"Deka\", popup=popup_deka, icon=icon_deka).add_to(m)\n",
    "#m"
   ]
  },
  {
   "cell_type": "code",
   "execution_count": 9,
   "metadata": {},
   "outputs": [
    {
     "data": {
      "text/plain": [
       "<folium.map.Marker at 0x4fc7910>"
      ]
     },
     "execution_count": 9,
     "metadata": {},
     "output_type": "execute_result"
    }
   ],
   "source": [
    "#Astari\n",
    "\n",
    "location_astari = [-6.274713216907242, 106.83769288106527]\n",
    "icon_astari = folium.features.CustomIcon('./foto gunggalegung/astari.png', icon_size=(30,50))\n",
    "popup_astari = \"<strong>Astari</strong><br>Nama : Astari Nur Irbah<br>No. Anggota : UFO.018.V.006<br> Tempat/Tanggal lahir : Jakarta, 17 September 1999\"\n",
    "folium.Marker(location=location_astari, tooltip=\"Astari\", popup=popup_astari, icon=icon_astari).add_to(m)\n",
    "#m"
   ]
  },
  {
   "cell_type": "code",
   "execution_count": 10,
   "metadata": {},
   "outputs": [
    {
     "data": {
      "text/plain": [
       "<folium.map.Marker at 0xf282b20>"
      ]
     },
     "execution_count": 10,
     "metadata": {},
     "output_type": "execute_result"
    }
   ],
   "source": [
    "#Dita\n",
    "\n",
    "location_dita = [-0.9227892045702786, 100.78137599930297]\n",
    "icon_dita = folium.features.CustomIcon('./foto gunggalegung/dita.png', icon_size=(90,150))\n",
    "popup_dita = \"<strong>Dita</strong><br>Nama : Dita Paramitha<br>No. Anggota : UFO.018.V.007<br> Tempat/Tanggal lahir : Sirukam, 2 Juni 1997\"\n",
    "folium.Marker(location=location_dita, tooltip=\"Dita\", popup=popup_dita, icon=icon_dita).add_to(m)\n",
    "#m"
   ]
  },
  {
   "cell_type": "code",
   "execution_count": 11,
   "metadata": {},
   "outputs": [
    {
     "data": {
      "text/plain": [
       "<folium.map.Marker at 0x4fd30a0>"
      ]
     },
     "execution_count": 11,
     "metadata": {},
     "output_type": "execute_result"
    }
   ],
   "source": [
    "#Farah\n",
    "\n",
    "location_farah = [-6.246916492911282, 106.93379513905295]\n",
    "icon_farah = folium.features.CustomIcon('./foto gunggalegung/farah.png', icon_size=(30,50))\n",
    "popup_farah = \"<strong>Farah</strong><br>Nama : Farah Nabilah<br>No. Anggota : UFO.018.V.008<br> Tempat/Tanggal lahir : Jakarta, 27 Januari 1998\"\n",
    "folium.Marker(location=location_farah, tooltip=\"Farah\", popup=popup_farah, icon=icon_farah).add_to(m)\n",
    "#m"
   ]
  },
  {
   "cell_type": "code",
   "execution_count": 12,
   "metadata": {},
   "outputs": [
    {
     "data": {
      "text/plain": [
       "<folium.map.Marker at 0x4fcc190>"
      ]
     },
     "execution_count": 12,
     "metadata": {},
     "output_type": "execute_result"
    }
   ],
   "source": [
    "#Hanifa\n",
    "\n",
    "location_hanifa = [-6.283578493496828, 106.75269112659672]\n",
    "icon_hanifa = folium.features.CustomIcon('./foto gunggalegung/hani.png', icon_size=(30,50))\n",
    "popup_hanifa = \"<strong>Hanifa</strong><br>Nama : Hanifa Ainun Mardiyah<br>No. Anggota : UFO.018.V.009<br> Tempat/Tanggal lahir : Manado, 22 Februari 2000\"\n",
    "folium.Marker(location=location_hanifa, tooltip=\"Hanifa\", popup=popup_hanifa, icon=icon_hanifa).add_to(m)\n",
    "#m"
   ]
  },
  {
   "cell_type": "code",
   "execution_count": 13,
   "metadata": {},
   "outputs": [
    {
     "data": {
      "text/plain": [
       "<folium.map.Marker at 0x4fcc2b0>"
      ]
     },
     "execution_count": 13,
     "metadata": {},
     "output_type": "execute_result"
    }
   ],
   "source": [
    "#Izhar\n",
    "\n",
    "location_izhar = [-6.353921510960608, 106.76710705254781]\n",
    "icon_izhar = folium.features.CustomIcon('./foto gunggalegung/ijar.png', icon_size=(30,50))\n",
    "popup_izhar = \"<strong>Izhar</strong><br>Nama : Izhar Yusuf Siregar<br>No. Anggota : UFO.018.V.010<br> Tempat/Tanggal lahir : Jakarta, 17 November 1999\"\n",
    "folium.Marker(location=location_izhar, tooltip=\"Izhar\", popup=popup_izhar, icon=icon_izhar).add_to(m)\n",
    "#m"
   ]
  },
  {
   "cell_type": "code",
   "execution_count": 14,
   "metadata": {},
   "outputs": [
    {
     "data": {
      "text/plain": [
       "<folium.map.Marker at 0xf27c070>"
      ]
     },
     "execution_count": 14,
     "metadata": {},
     "output_type": "execute_result"
    }
   ],
   "source": [
    "#Joel\n",
    "\n",
    "location_joel = [-6.148362617546126, 106.69814966788731]\n",
    "icon_joel = folium.features.CustomIcon('./foto gunggalegung/joel.png', icon_size=(30,50))\n",
    "popup_joel = \"<strong>Joel</strong><br>Nama : Joel Timothy Milendra<br>No. Anggota : UFO.018.V.011<br> Tempat/Tanggal lahir : Jakarta, 9 September 1999\"\n",
    "folium.Marker(location=location_joel, tooltip=\"Joel\", popup=popup_joel, icon=icon_joel).add_to(m)\n",
    "#m"
   ]
  },
  {
   "cell_type": "code",
   "execution_count": 15,
   "metadata": {},
   "outputs": [
    {
     "data": {
      "text/plain": [
       "<folium.map.Marker at 0xf27c2e0>"
      ]
     },
     "execution_count": 15,
     "metadata": {},
     "output_type": "execute_result"
    }
   ],
   "source": [
    "#Mega\n",
    "\n",
    "location_mega = [-6.205000777986647, 106.97769892555858]\n",
    "icon_mega = folium.features.CustomIcon('./foto gunggalegung/mega.png', icon_size=(30,50))\n",
    "popup_mega = \"<strong>Mega</strong><br>Nama : Mega Lestari<br>No. Anggota : UFO.018.V.012<br> Tempat/Tanggal lahir : Jakarta, 10 Juni 1999\"\n",
    "folium.Marker(location=location_mega, tooltip=\"Mega\", popup=popup_mega, icon=icon_mega).add_to(m)\n",
    "#m"
   ]
  },
  {
   "cell_type": "code",
   "execution_count": 16,
   "metadata": {},
   "outputs": [
    {
     "data": {
      "text/plain": [
       "<folium.map.Marker at 0xf27c640>"
      ]
     },
     "execution_count": 16,
     "metadata": {},
     "output_type": "execute_result"
    }
   ],
   "source": [
    "#Muti\n",
    "\n",
    "location_muti = [-6.253645250575615, 106.93894201021757]\n",
    "icon_muti = folium.features.CustomIcon('./foto gunggalegung/muti.png', icon_size=(30,50))\n",
    "popup_muti = \"<strong>Muti</strong><br>Nama : Muthia Shafitri<br>No. Anggota : UFO.018.V.013<br>Tempat/Tanggal lahir : Jakarta, 14 Juli 1998\"\n",
    "folium.Marker(location=location_muti, tooltip=\"Muti\", popup=popup_muti, icon=icon_muti).add_to(m)\n",
    "#m"
   ]
  },
  {
   "cell_type": "code",
   "execution_count": 17,
   "metadata": {},
   "outputs": [
    {
     "data": {
      "text/plain": [
       "<folium.map.Marker at 0x4fc7880>"
      ]
     },
     "execution_count": 17,
     "metadata": {},
     "output_type": "execute_result"
    }
   ],
   "source": [
    "#Salma\n",
    "\n",
    "location_salma = [-6.23162733566554, 107.0127613318465]\n",
    "icon_salma = folium.features.CustomIcon('./foto gunggalegung/salma.png', icon_size=(30,50))\n",
    "popup_salma = \"<strong>Salma</strong><br>Nama : Mutiara Salma Amirah<br>No. Anggota : UFO.018.V.014<br>Tempat/Tanggal lahir : Garut, 22 Agustus 1998\"\n",
    "folium.Marker(location=location_salma, tooltip=\"Salma\", popup=popup_salma, icon=icon_salma).add_to(m)\n",
    "#m"
   ]
  },
  {
   "cell_type": "code",
   "execution_count": 18,
   "metadata": {},
   "outputs": [
    {
     "data": {
      "text/plain": [
       "<folium.map.Marker at 0xf2688b0>"
      ]
     },
     "execution_count": 18,
     "metadata": {},
     "output_type": "execute_result"
    }
   ],
   "source": [
    "#Refina\n",
    "\n",
    "location_refina = [-6.276987947141003, 106.73334726789834]\n",
    "icon_refina = folium.features.CustomIcon('./foto gunggalegung/refina.png', icon_size=(30,50))\n",
    "popup_refina = \"<strong>Refina</strong><br>Nama : Refina Khalisha Azmi<br>No. Anggota : UFO.018.V.015<br> Tempat/Tanggal lahir : Magelang, 23 Juli 1998\"\n",
    "folium.Marker(location=location_refina, tooltip=\"Refina\", popup=popup_refina, icon=icon_refina).add_to(m)\n",
    "#m"
   ]
  },
  {
   "cell_type": "code",
   "execution_count": 19,
   "metadata": {},
   "outputs": [
    {
     "data": {
      "text/plain": [
       "<folium.map.Marker at 0x4fc77c0>"
      ]
     },
     "execution_count": 19,
     "metadata": {},
     "output_type": "execute_result"
    }
   ],
   "source": [
    "#Yoga\n",
    "\n",
    "location_yoga = [-6.25797886410994, 106.72631439024273]\n",
    "icon_yoga = folium.features.CustomIcon('./foto gunggalegung/yoga.png', icon_size=(30,50))\n",
    "popup_yoga = \"<strong>Yoga</strong><br>Nama : Rizki Yogatama<br>No. Anggota : UFO.018.V.016<br> Tempat/Tanggal lahir : Tanggerang, 16 Mei 1999\"\n",
    "folium.Marker(location=location_yoga, tooltip=\"Yoga\", popup=popup_yoga, icon=icon_yoga).add_to(m)\n",
    "#m"
   ]
  },
  {
   "cell_type": "code",
   "execution_count": 20,
   "metadata": {},
   "outputs": [
    {
     "data": {
      "text/plain": [
       "<folium.map.Marker at 0xf282a60>"
      ]
     },
     "execution_count": 20,
     "metadata": {},
     "output_type": "execute_result"
    }
   ],
   "source": [
    "#Nanda\n",
    "\n",
    "location_nanda = [-6.3340035993195665, 106.85205413973226]\n",
    "icon_nanda = folium.features.CustomIcon('./foto gunggalegung/nanda.png', icon_size=(30,50))\n",
    "popup_nanda = \"<strong>Nanda</strong><br>Nama : Tyanandarifah Rabiula<br>No. Anggota : UFO.018.V.017<br> Tempat/Tanggal lahir : Jakarta, 16 Juni 1999\"\n",
    "folium.Marker(location=location_nanda, tooltip=\"Nanda\", popup=popup_nanda, icon=icon_nanda).add_to(m)\n",
    "#m"
   ]
  },
  {
   "cell_type": "code",
   "execution_count": 21,
   "metadata": {},
   "outputs": [
    {
     "data": {
      "text/plain": [
       "<folium.map.Marker at 0xf2dd730>"
      ]
     },
     "execution_count": 21,
     "metadata": {},
     "output_type": "execute_result"
    }
   ],
   "source": [
    "#Wiwit\n",
    "\n",
    "location_wiwit = [-6.361211805988436, 106.88970187967638]\n",
    "icon_wiwit = folium.features.CustomIcon('./foto gunggalegung/wiwit.png', icon_size=(30,50))\n",
    "popup_wiwit = \"<strong>Wiwit</strong><br>Nama : Wiranto Widotomo<br>No. Anggota : UFO.018.V.018<br> Tempat/Tanggal lahir : Jakarta, 17 September 1999\"\n",
    "folium.Marker(location=location_wiwit, tooltip=\"Wiwit\", popup=popup_wiwit, icon=icon_wiwit).add_to(m)\n",
    "#m"
   ]
  },
  {
   "cell_type": "code",
   "execution_count": 40,
   "metadata": {},
   "outputs": [],
   "source": [
    "#save the map\n",
    "m.save('C:/Users/Wito_Randomo/Desktop/map_gunggalegung_1.html')"
   ]
  },
  {
   "cell_type": "code",
   "execution_count": null,
   "metadata": {},
   "outputs": [],
   "source": [
    "#Make plot Route"
   ]
  },
  {
   "cell_type": "code",
   "execution_count": 22,
   "metadata": {},
   "outputs": [
    {
     "data": {
      "text/plain": [
       "<folium.plugins.antpath.AntPath at 0xf2fac10>"
      ]
     },
     "execution_count": 22,
     "metadata": {},
     "output_type": "execute_result"
    }
   ],
   "source": [
    "#Dandy\n",
    "\n",
    "dandy_dinda = [[-6.2878703524813755, 106.79111202524273], [-6.356010, 106.791060]] \n",
    "dandy_aji = [[-6.2878703524813755, 106.79111202524273], [-6.242900, 107.089090]] \n",
    "dandy_edri = [[-6.2878703524813755, 106.79111202524273], [-6.362735750000001, 106.85469828433078]] \n",
    "dandy_deka = [[-6.2878703524813755, 106.79111202524273], [-6.466542968409356, 106.79221948138435]] \n",
    "dandy_astari = [[-6.2878703524813755, 106.79111202524273], [-6.274713216907242, 106.83769288106527]] \n",
    "dandy_farah = [[-6.2878703524813755, 106.79111202524273], [-6.246916492911282, 106.93379513905295]]\n",
    "dandy_hani = [[-6.2878703524813755, 106.79111202524273], [-6.283578493496828, 106.75269112659672]]\n",
    "dandy_izhar = [[-6.2878703524813755, 106.79111202524273], [-6.353921510960608, 106.76710705254781]] \n",
    "dandy_joel = [[-6.2878703524813755, 106.79111202524273], [-6.148362617546126, 106.69814966788731]] \n",
    "dandy_mega = [[-6.2878703524813755, 106.79111202524273], [-6.205000777986647, 106.97769892555858]] \n",
    "dandy_muti = [[-6.2878703524813755, 106.79111202524273], [-6.253645250575615, 106.93894201021757]] \n",
    "dandy_salma = [[-6.2878703524813755, 106.79111202524273], [-6.23162733566554, 107.0127613318465]]\n",
    "dandy_refina = [[-6.2878703524813755, 106.79111202524273], [-6.276987947141003, 106.73334726789834]] \n",
    "dandy_yoga = [[-6.2878703524813755, 106.79111202524273], [-6.25797886410994, 106.72631439024273]] \n",
    "dandy_nanda = [[-6.2878703524813755, 106.79111202524273], [-6.3340035993195665, 106.85205413973226]] \n",
    "dandy_wiwit = [[-6.2878703524813755, 106.79111202524273], [-6.361211805988436, 106.88970187967638]]\n",
    "\n",
    "# Ploting ant-route\n",
    "plugins.AntPath(dandy_dinda).add_to(m)\n",
    "plugins.AntPath(dandy_aji).add_to(m)\n",
    "plugins.AntPath(dandy_edri).add_to(m)\n",
    "plugins.AntPath(dandy_deka).add_to(m)\n",
    "plugins.AntPath(dandy_astari).add_to(m)\n",
    "plugins.AntPath(dandy_farah).add_to(m)\n",
    "plugins.AntPath(dandy_hani).add_to(m)\n",
    "plugins.AntPath(dandy_izhar).add_to(m)\n",
    "plugins.AntPath(dandy_joel).add_to(m)\n",
    "plugins.AntPath(dandy_mega).add_to(m)\n",
    "plugins.AntPath(dandy_muti).add_to(m)\n",
    "plugins.AntPath(dandy_salma).add_to(m)\n",
    "plugins.AntPath(dandy_refina).add_to(m)\n",
    "plugins.AntPath(dandy_yoga).add_to(m)\n",
    "plugins.AntPath(dandy_nanda).add_to(m)\n",
    "plugins.AntPath(dandy_wiwit).add_to(m)\n"
   ]
  },
  {
   "cell_type": "code",
   "execution_count": 23,
   "metadata": {},
   "outputs": [
    {
     "data": {
      "text/plain": [
       "<folium.plugins.antpath.AntPath at 0xf2f2cd0>"
      ]
     },
     "execution_count": 23,
     "metadata": {},
     "output_type": "execute_result"
    }
   ],
   "source": [
    "#Dinda\n",
    "\n",
    "dinda_aji = [[-6.356010, 106.791060], [-6.242900, 107.089090]] \n",
    "dinda_edri = [[-6.356010, 106.791060], [-6.362735750000001, 106.85469828433078]] \n",
    "dinda_deka = [[-6.356010, 106.791060], [-6.466542968409356, 106.79221948138435]] \n",
    "dinda_astari = [[-6.356010, 106.791060], [-6.274713216907242, 106.83769288106527]] \n",
    "dinda_farah = [[-6.356010, 106.791060], [-6.246916492911282, 106.93379513905295]]\n",
    "dinda_hani = [[-6.356010, 106.791060], [-6.283578493496828, 106.75269112659672]]\n",
    "dinda_izhar = [[-6.356010, 106.791060], [-6.353921510960608, 106.76710705254781]] \n",
    "dinda_joel = [[-6.356010, 106.791060], [-6.148362617546126, 106.69814966788731]] \n",
    "dinda_mega = [[-6.356010, 106.791060], [-6.205000777986647, 106.97769892555858]] \n",
    "dinda_muti = [[-6.356010, 106.791060], [-6.253645250575615, 106.93894201021757]] \n",
    "dinda_salma = [[-6.356010, 106.791060], [-6.23162733566554, 107.0127613318465]]\n",
    "dinda_refina = [[-6.356010, 106.791060], [-6.276987947141003, 106.73334726789834]] \n",
    "dinda_yoga = [[-6.356010, 106.791060], [-6.25797886410994, 106.72631439024273]] \n",
    "dinda_nanda = [[-6.356010, 106.791060], [-6.3340035993195665, 106.85205413973226]] \n",
    "dinda_wiwit = [[-6.356010, 106.791060], [-6.361211805988436, 106.88970187967638]]\n",
    "\n",
    "# Ploting ant-route\n",
    "plugins.AntPath(dinda_aji).add_to(m)\n",
    "plugins.AntPath(dinda_edri).add_to(m)\n",
    "plugins.AntPath(dinda_deka).add_to(m)\n",
    "plugins.AntPath(dinda_astari).add_to(m)\n",
    "plugins.AntPath(dinda_farah).add_to(m)\n",
    "plugins.AntPath(dinda_hani).add_to(m)\n",
    "plugins.AntPath(dinda_izhar).add_to(m)\n",
    "plugins.AntPath(dinda_joel).add_to(m)\n",
    "plugins.AntPath(dinda_mega).add_to(m)\n",
    "plugins.AntPath(dinda_muti).add_to(m)\n",
    "plugins.AntPath(dinda_salma).add_to(m)\n",
    "plugins.AntPath(dinda_refina).add_to(m)\n",
    "plugins.AntPath(dinda_yoga).add_to(m)\n",
    "plugins.AntPath(dinda_nanda).add_to(m)\n",
    "plugins.AntPath(dinda_wiwit).add_to(m)\n"
   ]
  },
  {
   "cell_type": "code",
   "execution_count": 24,
   "metadata": {},
   "outputs": [
    {
     "data": {
      "text/plain": [
       "<folium.plugins.antpath.AntPath at 0xf30caf0>"
      ]
     },
     "execution_count": 24,
     "metadata": {},
     "output_type": "execute_result"
    }
   ],
   "source": [
    "#Aji\n",
    "\n",
    "aji_edri = [[-6.242900, 107.089090], [-6.362735750000001, 106.85469828433078]] \n",
    "aji_deka = [[-6.242900, 107.089090], [-6.466542968409356, 106.79221948138435]] \n",
    "aji_astari = [[-6.242900, 107.089090], [-6.274713216907242, 106.83769288106527]] \n",
    "aji_farah = [[-6.242900, 107.089090], [-6.246916492911282, 106.93379513905295]]\n",
    "aji_hani = [[-6.242900, 107.089090], [-6.283578493496828, 106.75269112659672]]\n",
    "aji_izhar = [[-6.242900, 107.089090], [-6.353921510960608, 106.76710705254781]] \n",
    "aji_joel = [[-6.242900, 107.089090], [-6.148362617546126, 106.69814966788731]] \n",
    "aji_mega = [[-6.242900, 107.089090], [-6.205000777986647, 106.97769892555858]] \n",
    "aji_muti = [[-6.242900, 107.089090], [-6.253645250575615, 106.93894201021757]] \n",
    "aji_salma = [[-6.242900, 107.089090], [-6.23162733566554, 107.0127613318465]]\n",
    "aji_refina = [[-6.242900, 107.089090], [-6.276987947141003, 106.73334726789834]] \n",
    "aji_yoga = [[-6.242900, 107.089090], [-6.25797886410994, 106.72631439024273]] \n",
    "aji_nanda = [[-6.242900, 107.089090], [-6.3340035993195665, 106.85205413973226]] \n",
    "aji_wiwit = [[-6.242900, 107.089090], [-6.361211805988436, 106.88970187967638]]\n",
    "\n",
    "# Ploting ant-route\n",
    "plugins.AntPath(aji_edri).add_to(m)\n",
    "plugins.AntPath(aji_deka).add_to(m)\n",
    "plugins.AntPath(aji_astari).add_to(m)\n",
    "plugins.AntPath(aji_farah).add_to(m)\n",
    "plugins.AntPath(aji_hani).add_to(m)\n",
    "plugins.AntPath(aji_izhar).add_to(m)\n",
    "plugins.AntPath(aji_joel).add_to(m)\n",
    "plugins.AntPath(aji_mega).add_to(m)\n",
    "plugins.AntPath(aji_muti).add_to(m)\n",
    "plugins.AntPath(aji_salma).add_to(m)\n",
    "plugins.AntPath(aji_refina).add_to(m)\n",
    "plugins.AntPath(aji_yoga).add_to(m)\n",
    "plugins.AntPath(aji_nanda).add_to(m)\n",
    "plugins.AntPath(aji_wiwit).add_to(m)\n"
   ]
  },
  {
   "cell_type": "code",
   "execution_count": 25,
   "metadata": {},
   "outputs": [
    {
     "data": {
      "text/plain": [
       "<folium.plugins.antpath.AntPath at 0xf30c640>"
      ]
     },
     "execution_count": 25,
     "metadata": {},
     "output_type": "execute_result"
    }
   ],
   "source": [
    "#Edri\n",
    "\n",
    "edri_deka = [[-6.362735750000001, 106.85469828433078], [-6.466542968409356, 106.79221948138435]] \n",
    "edri_astari = [[-6.362735750000001, 106.85469828433078], [-6.274713216907242, 106.83769288106527]] \n",
    "edri_farah = [[-6.362735750000001, 106.85469828433078], [-6.246916492911282, 106.93379513905295]]\n",
    "edri_hani = [[-6.362735750000001, 106.85469828433078], [-6.283578493496828, 106.75269112659672]]\n",
    "edri_izhar = [[-6.362735750000001, 106.85469828433078], [-6.353921510960608, 106.76710705254781]] \n",
    "edri_joel = [[-6.362735750000001, 106.85469828433078], [-6.148362617546126, 106.69814966788731]] \n",
    "edri_mega = [[-6.362735750000001, 106.85469828433078], [-6.205000777986647, 106.97769892555858]] \n",
    "edri_muti = [[-6.362735750000001, 106.85469828433078], [-6.253645250575615, 106.93894201021757]] \n",
    "edri_salma = [[-6.362735750000001, 106.85469828433078], [-6.23162733566554, 107.0127613318465]]\n",
    "edri_refina = [[-6.362735750000001, 106.85469828433078], [-6.276987947141003, 106.73334726789834]] \n",
    "edri_yoga = [[-6.362735750000001, 106.85469828433078], [-6.25797886410994, 106.72631439024273]] \n",
    "edri_nanda = [[-6.362735750000001, 106.85469828433078], [-6.3340035993195665, 106.85205413973226]] \n",
    "edri_wiwit = [[-6.362735750000001, 106.85469828433078], [-6.361211805988436, 106.88970187967638]]\n",
    "\n",
    "# Ploting ant-route\n",
    "plugins.AntPath(edri_deka).add_to(m)\n",
    "plugins.AntPath(edri_astari).add_to(m)\n",
    "plugins.AntPath(edri_farah).add_to(m)\n",
    "plugins.AntPath(edri_hani).add_to(m)\n",
    "plugins.AntPath(edri_izhar).add_to(m)\n",
    "plugins.AntPath(edri_joel).add_to(m)\n",
    "plugins.AntPath(edri_mega).add_to(m)\n",
    "plugins.AntPath(edri_muti).add_to(m)\n",
    "plugins.AntPath(edri_salma).add_to(m)\n",
    "plugins.AntPath(edri_refina).add_to(m)\n",
    "plugins.AntPath(edri_yoga).add_to(m)\n",
    "plugins.AntPath(edri_nanda).add_to(m)\n",
    "plugins.AntPath(edri_wiwit).add_to(m)\n"
   ]
  },
  {
   "cell_type": "code",
   "execution_count": 26,
   "metadata": {},
   "outputs": [
    {
     "data": {
      "text/plain": [
       "<folium.plugins.antpath.AntPath at 0xf30cd00>"
      ]
     },
     "execution_count": 26,
     "metadata": {},
     "output_type": "execute_result"
    }
   ],
   "source": [
    "#Deka\n",
    "\n",
    "deka_astari = [[-6.466542968409356, 106.79221948138435], [-6.274713216907242, 106.83769288106527]]\n",
    "deka_dita = [[-6.466542968409356, 106.79221948138435], [-0.9227892045702786, 100.78137599930297]]\n",
    "deka_farah = [[-6.466542968409356, 106.79221948138435], [-6.246916492911282, 106.93379513905295]]\n",
    "deka_hani = [[-6.466542968409356, 106.79221948138435], [-6.283578493496828, 106.75269112659672]]\n",
    "deka_izhar = [[-6.466542968409356, 106.79221948138435], [-6.353921510960608, 106.76710705254781]] \n",
    "deka_joel = [[-6.466542968409356, 106.79221948138435], [-6.148362617546126, 106.69814966788731]] \n",
    "deka_mega = [[-6.466542968409356, 106.79221948138435], [-6.205000777986647, 106.97769892555858]] \n",
    "deka_muti = [[-6.466542968409356, 106.79221948138435], [-6.253645250575615, 106.93894201021757]] \n",
    "deka_salma = [[-6.466542968409356, 106.79221948138435], [-6.23162733566554, 107.0127613318465]]\n",
    "deka_refina = [[-6.466542968409356, 106.79221948138435], [-6.276987947141003, 106.73334726789834]] \n",
    "deka_yoga = [[-6.466542968409356, 106.79221948138435], [-6.25797886410994, 106.72631439024273]] \n",
    "deka_nanda = [[-6.466542968409356, 106.79221948138435], [-6.3340035993195665, 106.85205413973226]] \n",
    "deka_wiwit = [[-6.466542968409356, 106.79221948138435], [-6.361211805988436, 106.88970187967638]]\n",
    "\n",
    "# Ploting ant-route\n",
    "plugins.AntPath(deka_astari).add_to(m)\n",
    "plugins.AntPath(deka_dita).add_to(m)\n",
    "plugins.AntPath(deka_farah).add_to(m)\n",
    "plugins.AntPath(deka_hani).add_to(m)\n",
    "plugins.AntPath(deka_izhar).add_to(m)\n",
    "plugins.AntPath(deka_joel).add_to(m)\n",
    "plugins.AntPath(deka_mega).add_to(m)\n",
    "plugins.AntPath(deka_muti).add_to(m)\n",
    "plugins.AntPath(deka_salma).add_to(m)\n",
    "plugins.AntPath(deka_refina).add_to(m)\n",
    "plugins.AntPath(deka_yoga).add_to(m)\n",
    "plugins.AntPath(deka_nanda).add_to(m)\n",
    "plugins.AntPath(deka_wiwit).add_to(m)\n"
   ]
  },
  {
   "cell_type": "code",
   "execution_count": 27,
   "metadata": {},
   "outputs": [
    {
     "data": {
      "text/plain": [
       "<folium.plugins.antpath.AntPath at 0xf2f2370>"
      ]
     },
     "execution_count": 27,
     "metadata": {},
     "output_type": "execute_result"
    }
   ],
   "source": [
    "#Astari\n",
    "\n",
    "astari_farah = [[-6.274713216907242, 106.83769288106527], [-6.246916492911282, 106.93379513905295]]\n",
    "astari_hani = [[-6.466542968409356, 106.79221948138435], [-6.283578493496828, 106.75269112659672]]\n",
    "astari_izhar = [[-6.466542968409356, 106.79221948138435], [-6.353921510960608, 106.76710705254781]] \n",
    "astari_joel = [[-6.466542968409356, 106.79221948138435], [-6.148362617546126, 106.69814966788731]] \n",
    "astari_mega = [[-6.466542968409356, 106.79221948138435], [-6.205000777986647, 106.97769892555858]] \n",
    "astari_muti = [[-6.466542968409356, 106.79221948138435], [-6.253645250575615, 106.93894201021757]] \n",
    "astari_salma = [[-6.466542968409356, 106.79221948138435], [-6.23162733566554, 107.0127613318465]]\n",
    "astari_refina = [[-6.466542968409356, 106.79221948138435], [-6.276987947141003, 106.73334726789834]] \n",
    "astari_yoga = [[-6.466542968409356, 106.79221948138435], [-6.25797886410994, 106.72631439024273]] \n",
    "astari_nanda = [[-6.466542968409356, 106.79221948138435], [-6.3340035993195665, 106.85205413973226]] \n",
    "astari_wiwit = [[-6.466542968409356, 106.79221948138435], [-6.361211805988436, 106.88970187967638]]\n",
    "\n",
    "# Ploting ant-route\n",
    "plugins.AntPath(astari_farah).add_to(m)\n",
    "plugins.AntPath(astari_hani).add_to(m)\n",
    "plugins.AntPath(astari_izhar).add_to(m)\n",
    "plugins.AntPath(astari_joel).add_to(m)\n",
    "plugins.AntPath(astari_mega).add_to(m)\n",
    "plugins.AntPath(astari_muti).add_to(m)\n",
    "plugins.AntPath(astari_salma).add_to(m)\n",
    "plugins.AntPath(astari_refina).add_to(m)\n",
    "plugins.AntPath(astari_yoga).add_to(m)\n",
    "plugins.AntPath(astari_nanda).add_to(m)\n",
    "plugins.AntPath(astari_wiwit).add_to(m)\n"
   ]
  },
  {
   "cell_type": "code",
   "execution_count": 28,
   "metadata": {},
   "outputs": [
    {
     "data": {
      "text/plain": [
       "<folium.plugins.antpath.AntPath at 0xf2ba6a0>"
      ]
     },
     "execution_count": 28,
     "metadata": {},
     "output_type": "execute_result"
    }
   ],
   "source": [
    "#Farah\n",
    "\n",
    "farah_hani = [[-6.246916492911282, 106.93379513905295], [-6.283578493496828, 106.75269112659672]]\n",
    "farah_izhar = [[-6.246916492911282, 106.93379513905295], [-6.353921510960608, 106.76710705254781]] \n",
    "farah_joel = [[-6.246916492911282, 106.93379513905295], [-6.148362617546126, 106.69814966788731]] \n",
    "farah_mega = [[-6.246916492911282, 106.93379513905295], [-6.205000777986647, 106.97769892555858]] \n",
    "farah_muti = [[-6.246916492911282, 106.93379513905295], [-6.253645250575615, 106.93894201021757]] \n",
    "farah_salma = [[-6.246916492911282, 106.93379513905295], [-6.23162733566554, 107.0127613318465]]\n",
    "farah_refina = [[-6.246916492911282, 106.93379513905295], [-6.276987947141003, 106.73334726789834]] \n",
    "farah_yoga = [[-6.246916492911282, 106.93379513905295], [-6.25797886410994, 106.72631439024273]] \n",
    "farah_nanda = [[-6.246916492911282, 106.93379513905295], [-6.3340035993195665, 106.85205413973226]] \n",
    "farah_wiwit = [[-6.246916492911282, 106.93379513905295], [-6.361211805988436, 106.88970187967638]]\n",
    "\n",
    "# Ploting ant-route\n",
    "plugins.AntPath(farah_hani).add_to(m)\n",
    "plugins.AntPath(farah_izhar).add_to(m)\n",
    "plugins.AntPath(farah_joel).add_to(m)\n",
    "plugins.AntPath(farah_mega).add_to(m)\n",
    "plugins.AntPath(farah_muti).add_to(m)\n",
    "plugins.AntPath(farah_salma).add_to(m)\n",
    "plugins.AntPath(farah_refina).add_to(m)\n",
    "plugins.AntPath(farah_yoga).add_to(m)\n",
    "plugins.AntPath(farah_nanda).add_to(m)\n",
    "plugins.AntPath(farah_wiwit).add_to(m)\n"
   ]
  },
  {
   "cell_type": "code",
   "execution_count": 29,
   "metadata": {},
   "outputs": [
    {
     "data": {
      "text/plain": [
       "<folium.plugins.antpath.AntPath at 0xf2babe0>"
      ]
     },
     "execution_count": 29,
     "metadata": {},
     "output_type": "execute_result"
    }
   ],
   "source": [
    "#Hani\n",
    "\n",
    "hani_izhar = [[-6.283578493496828, 106.75269112659672], [-6.353921510960608, 106.76710705254781]] \n",
    "hani_joel = [[-6.283578493496828, 106.75269112659672], [-6.148362617546126, 106.69814966788731]] \n",
    "hani_mega = [[-6.283578493496828, 106.75269112659672], [-6.205000777986647, 106.97769892555858]] \n",
    "hani_muti = [[-6.283578493496828, 106.75269112659672], [-6.253645250575615, 106.93894201021757]] \n",
    "hani_salma = [[-6.283578493496828, 106.75269112659672], [-6.23162733566554, 107.0127613318465]]\n",
    "hani_refina = [[-6.283578493496828, 106.75269112659672], [-6.276987947141003, 106.73334726789834]] \n",
    "hani_yoga = [[-6.283578493496828, 106.75269112659672], [-6.25797886410994, 106.72631439024273]] \n",
    "hani_nanda = [[-6.283578493496828, 106.75269112659672], [-6.3340035993195665, 106.85205413973226]] \n",
    "hani_wiwit = [[-6.283578493496828, 106.75269112659672], [-6.361211805988436, 106.88970187967638]]\n",
    "\n",
    "# Ploting ant-route\n",
    "plugins.AntPath(hani_izhar).add_to(m)\n",
    "plugins.AntPath(hani_joel).add_to(m)\n",
    "plugins.AntPath(hani_mega).add_to(m)\n",
    "plugins.AntPath(hani_muti).add_to(m)\n",
    "plugins.AntPath(hani_salma).add_to(m)\n",
    "plugins.AntPath(hani_refina).add_to(m)\n",
    "plugins.AntPath(hani_yoga).add_to(m)\n",
    "plugins.AntPath(hani_nanda).add_to(m)\n",
    "plugins.AntPath(hani_wiwit).add_to(m)\n"
   ]
  },
  {
   "cell_type": "code",
   "execution_count": 30,
   "metadata": {},
   "outputs": [
    {
     "data": {
      "text/plain": [
       "<folium.plugins.antpath.AntPath at 0xf30c3a0>"
      ]
     },
     "execution_count": 30,
     "metadata": {},
     "output_type": "execute_result"
    }
   ],
   "source": [
    "#Izhar\n",
    "\n",
    "izhar_joel = [[-6.353921510960608, 106.76710705254781], [-6.148362617546126, 106.69814966788731]] \n",
    "izhar_mega = [[-6.353921510960608, 106.76710705254781], [-6.205000777986647, 106.97769892555858]] \n",
    "izhar_muti = [[-6.353921510960608, 106.76710705254781], [-6.253645250575615, 106.93894201021757]] \n",
    "izhar_salma = [[-6.353921510960608, 106.76710705254781], [-6.23162733566554, 107.0127613318465]]\n",
    "izhar_refina = [[-6.353921510960608, 106.76710705254781], [-6.276987947141003, 106.73334726789834]] \n",
    "izhar_yoga = [[-6.353921510960608, 106.76710705254781], [-6.25797886410994, 106.72631439024273]] \n",
    "izhar_nanda = [[-6.353921510960608, 106.76710705254781], [-6.3340035993195665, 106.85205413973226]] \n",
    "izhar_wiwit = [[-6.353921510960608, 106.76710705254781], [-6.361211805988436, 106.88970187967638]]\n",
    "\n",
    "# Ploting ant-route\n",
    "plugins.AntPath(izhar_joel).add_to(m)\n",
    "plugins.AntPath(izhar_mega).add_to(m)\n",
    "plugins.AntPath(izhar_muti).add_to(m)\n",
    "plugins.AntPath(izhar_salma).add_to(m)\n",
    "plugins.AntPath(izhar_refina).add_to(m)\n",
    "plugins.AntPath(izhar_yoga).add_to(m)\n",
    "plugins.AntPath(izhar_nanda).add_to(m)\n",
    "plugins.AntPath(izhar_wiwit).add_to(m)\n"
   ]
  },
  {
   "cell_type": "code",
   "execution_count": 31,
   "metadata": {},
   "outputs": [
    {
     "data": {
      "text/plain": [
       "<folium.plugins.antpath.AntPath at 0xf2f23a0>"
      ]
     },
     "execution_count": 31,
     "metadata": {},
     "output_type": "execute_result"
    }
   ],
   "source": [
    "#Joel\n",
    "\n",
    "joel_mega = [[-6.148362617546126, 106.69814966788731], [-6.205000777986647, 106.97769892555858]] \n",
    "joel_muti = [[-6.148362617546126, 106.69814966788731], [-6.253645250575615, 106.93894201021757]] \n",
    "joel_salma = [[-6.148362617546126, 106.69814966788731], [-6.23162733566554, 107.0127613318465]]\n",
    "joel_refina = [[-6.148362617546126, 106.69814966788731], [-6.276987947141003, 106.73334726789834]] \n",
    "joel_yoga = [[-6.148362617546126, 106.69814966788731], [-6.25797886410994, 106.72631439024273]] \n",
    "joel_nanda = [[-6.148362617546126, 106.69814966788731], [-6.3340035993195665, 106.85205413973226]] \n",
    "joel_wiwit = [[-6.148362617546126, 106.69814966788731], [-6.361211805988436, 106.88970187967638]]\n",
    "\n",
    "# Ploting ant-route\n",
    "plugins.AntPath(joel_mega).add_to(m)\n",
    "plugins.AntPath(joel_muti).add_to(m)\n",
    "plugins.AntPath(joel_salma).add_to(m)\n",
    "plugins.AntPath(joel_refina).add_to(m)\n",
    "plugins.AntPath(joel_yoga).add_to(m)\n",
    "plugins.AntPath(joel_nanda).add_to(m)\n",
    "plugins.AntPath(joel_wiwit).add_to(m)\n"
   ]
  },
  {
   "cell_type": "code",
   "execution_count": 32,
   "metadata": {},
   "outputs": [
    {
     "data": {
      "text/plain": [
       "<folium.plugins.antpath.AntPath at 0xf2fafd0>"
      ]
     },
     "execution_count": 32,
     "metadata": {},
     "output_type": "execute_result"
    }
   ],
   "source": [
    "#Mega\n",
    "\n",
    "mega_muti = [[-6.205000777986647, 106.97769892555858], [-6.253645250575615, 106.93894201021757]] \n",
    "mega_salma = [[-6.205000777986647, 106.97769892555858], [-6.23162733566554, 107.0127613318465]]\n",
    "mega_refina = [[-6.205000777986647, 106.97769892555858], [-6.276987947141003, 106.73334726789834]] \n",
    "mega_yoga = [[-6.205000777986647, 106.97769892555858], [-6.25797886410994, 106.72631439024273]] \n",
    "mega_nanda = [[-6.205000777986647, 106.97769892555858], [-6.3340035993195665, 106.85205413973226]] \n",
    "mega_wiwit = [[-6.205000777986647, 106.97769892555858], [-6.361211805988436, 106.88970187967638]]\n",
    "\n",
    "# Ploting ant-route\n",
    "plugins.AntPath(mega_muti).add_to(m)\n",
    "plugins.AntPath(mega_salma).add_to(m)\n",
    "plugins.AntPath(mega_refina).add_to(m)\n",
    "plugins.AntPath(mega_yoga).add_to(m)\n",
    "plugins.AntPath(mega_nanda).add_to(m)\n",
    "plugins.AntPath(mega_wiwit).add_to(m)\n"
   ]
  },
  {
   "cell_type": "code",
   "execution_count": 33,
   "metadata": {},
   "outputs": [
    {
     "data": {
      "text/plain": [
       "<folium.plugins.antpath.AntPath at 0xf2dd340>"
      ]
     },
     "execution_count": 33,
     "metadata": {},
     "output_type": "execute_result"
    }
   ],
   "source": [
    "#Muti\n",
    "\n",
    "muti_salma = [[-6.253645250575615, 106.93894201021757], [-6.23162733566554, 107.0127613318465]]\n",
    "muti_refina = [[-6.253645250575615, 106.93894201021757], [-6.276987947141003, 106.73334726789834]] \n",
    "muti_yoga = [[-6.253645250575615, 106.93894201021757], [-6.25797886410994, 106.72631439024273]] \n",
    "muti_nanda = [[-6.253645250575615, 106.93894201021757], [-6.3340035993195665, 106.85205413973226]] \n",
    "muti_wiwit = [[-6.253645250575615, 106.93894201021757], [-6.361211805988436, 106.88970187967638]]\n",
    "\n",
    "# Ploting ant-route\n",
    "plugins.AntPath(muti_salma).add_to(m)\n",
    "plugins.AntPath(muti_refina).add_to(m)\n",
    "plugins.AntPath(muti_yoga).add_to(m)\n",
    "plugins.AntPath(muti_nanda).add_to(m)\n",
    "plugins.AntPath(muti_wiwit).add_to(m)\n"
   ]
  },
  {
   "cell_type": "code",
   "execution_count": 35,
   "metadata": {},
   "outputs": [
    {
     "data": {
      "text/plain": [
       "<folium.plugins.antpath.AntPath at 0xf2f2580>"
      ]
     },
     "execution_count": 35,
     "metadata": {},
     "output_type": "execute_result"
    }
   ],
   "source": [
    "#Salma\n",
    "\n",
    "salma_refina = [[-6.23162733566554, 107.0127613318465], [-6.276987947141003, 106.73334726789834]] \n",
    "salma_yoga = [[-6.23162733566554, 107.0127613318465], [-6.25797886410994, 106.72631439024273]] \n",
    "salma_nanda = [[-6.23162733566554, 107.0127613318465], [-6.3340035993195665, 106.85205413973226]] \n",
    "salma_wiwit = [[-6.23162733566554, 107.0127613318465], [-6.361211805988436, 106.88970187967638]]\n",
    "\n",
    "# Ploting ant-route\n",
    "plugins.AntPath(salma_refina).add_to(m)\n",
    "plugins.AntPath(salma_yoga).add_to(m)\n",
    "plugins.AntPath(salma_nanda).add_to(m)\n",
    "plugins.AntPath(salma_wiwit).add_to(m)\n"
   ]
  },
  {
   "cell_type": "code",
   "execution_count": 36,
   "metadata": {},
   "outputs": [
    {
     "data": {
      "text/plain": [
       "<folium.plugins.antpath.AntPath at 0xf30c1c0>"
      ]
     },
     "execution_count": 36,
     "metadata": {},
     "output_type": "execute_result"
    }
   ],
   "source": [
    "#Refina\n",
    "\n",
    "caca_yoga = [[-6.276987947141003, 106.73334726789834], [-6.25797886410994, 106.72631439024273]] \n",
    "caca_nanda = [[-6.276987947141003, 106.73334726789834], [-6.3340035993195665, 106.85205413973226]] \n",
    "caca_wiwit = [[-6.276987947141003, 106.73334726789834], [-6.361211805988436, 106.88970187967638]]\n",
    "\n",
    "# Ploting ant-route\n",
    "plugins.AntPath(caca_yoga).add_to(m)\n",
    "plugins.AntPath(caca_nanda).add_to(m)\n",
    "plugins.AntPath(caca_wiwit).add_to(m)\n"
   ]
  },
  {
   "cell_type": "code",
   "execution_count": 37,
   "metadata": {},
   "outputs": [
    {
     "data": {
      "text/plain": [
       "<folium.plugins.antpath.AntPath at 0xf2fa0a0>"
      ]
     },
     "execution_count": 37,
     "metadata": {},
     "output_type": "execute_result"
    }
   ],
   "source": [
    "#Yoga\n",
    "\n",
    "yoga_nanda = [[-6.25797886410994, 106.72631439024273], [-6.3340035993195665, 106.85205413973226]] \n",
    "yoga_wiwit = [[-6.25797886410994, 106.72631439024273], [-6.361211805988436, 106.88970187967638]]\n",
    "\n",
    "# Ploting ant-route\n",
    "plugins.AntPath(yoga_nanda).add_to(m)\n",
    "plugins.AntPath(yoga_wiwit).add_to(m)\n"
   ]
  },
  {
   "cell_type": "code",
   "execution_count": 38,
   "metadata": {},
   "outputs": [
    {
     "data": {
      "text/plain": [
       "<folium.plugins.antpath.AntPath at 0xf2fa2e0>"
      ]
     },
     "execution_count": 38,
     "metadata": {},
     "output_type": "execute_result"
    }
   ],
   "source": [
    "#nanda\n",
    "\n",
    "nanda_wiwit = [[-6.3340035993195665, 106.85205413973226], [-6.361211805988436, 106.88970187967638]]\n",
    "\n",
    "# Ploting ant-route\n",
    "plugins.AntPath(nanda_wiwit).add_to(m)\n"
   ]
  },
  {
   "cell_type": "code",
   "execution_count": null,
   "metadata": {},
   "outputs": [],
   "source": []
  },
  {
   "cell_type": "code",
   "execution_count": 39,
   "metadata": {},
   "outputs": [],
   "source": [
    "#save the map\n",
    "m.save('C:/Users/Wito_Randomo/Desktop/map_gunggalegung_2.html')"
   ]
  }
 ],
 "metadata": {
  "kernelspec": {
   "display_name": "Python 3",
   "language": "python",
   "name": "python3"
  },
  "language_info": {
   "codemirror_mode": {
    "name": "ipython",
    "version": 3
   },
   "file_extension": ".py",
   "mimetype": "text/x-python",
   "name": "python",
   "nbconvert_exporter": "python",
   "pygments_lexer": "ipython3",
   "version": "3.8.6"
  }
 },
 "nbformat": 4,
 "nbformat_minor": 4
}
